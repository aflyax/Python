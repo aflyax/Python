{
 "metadata": {
  "name": "",
  "signature": "sha256:3b15f011747d9707664a75bde84bc74e157b164dbef8e1eca72d45ea51f5167d"
 },
 "nbformat": 3,
 "nbformat_minor": 0,
 "worksheets": [
  {
   "cells": [
    {
     "cell_type": "code",
     "collapsed": false,
     "input": [
      "from matplotlib import pylab\n",
      "from matplotlib import pyplot as plt\n",
      "%matplotlib inline\n",
      "\n",
      "import seaborn as sns\n",
      "sns.set(context='poster', style='dark')\n",
      "\n",
      "pylab.rcParams['figure.figsize'] = (24.0, 18.0)\n",
      "\n",
      "import numpy as np\n",
      "from numpy.random import rand\n",
      "import pandas as pd\n",
      "\n",
      "from sklearn import cross_validation\n",
      "from sklearn.ensemble import GradientBoostingRegressor\n",
      "from sklearn.ensemble import RandomForestRegressor\n",
      "from sklearn.metrics import mean_squared_error\n",
      "from sklearn.metrics import explained_variance_score\n",
      "import time"
     ],
     "language": "python",
     "metadata": {},
     "outputs": [],
     "prompt_number": 1
    },
    {
     "cell_type": "code",
     "collapsed": false,
     "input": [
      "def try_model(X, Y, model):\n",
      "    X_train, X_test, y_train, y_test = cross_validation.train_test_split(X, Y, test_size=0.2, random_state=10)\n",
      "\n",
      "    print(\"start fitting... \", time.ctime().split()[3])\n",
      "    model.fit(X_train, y_train)\n",
      "    print(\"done fitting... \", time.ctime().split()[3])\n",
      "\n",
      "    mse = mean_squared_error(y_test, model.predict(X_test))\n",
      "    print('mean squared error: ', mse)\n",
      "\n",
      "    print(\"explained variance score: \", explained_variance_score(np.abs(y_test), np.abs(model.predict(X_test))))"
     ],
     "language": "python",
     "metadata": {},
     "outputs": [],
     "prompt_number": 2
    },
    {
     "cell_type": "code",
     "collapsed": false,
     "input": [
      "#importing and munging the data\n",
      "\n",
      "#importing providers_info\n",
      "providers_info = pd.read_csv('providers.csv')\n",
      "providers_info = providers_info[0:2884]                          # removing NA values at the end\n",
      "providers_info.columns = ['practice_id', 'provider_id', 'specialty', 'provider_level', 'tenure']\n",
      "\n",
      "key_id = providers_info.practice_id + providers_info.provider_id / 100\n",
      "\n",
      "# print key_id\n",
      "\n",
      "providers_info['key_id'] = key_id\n",
      "providers_info = providers_info[['key_id', 'practice_id', 'provider_id', 'specialty', 'provider_level', 'tenure']]\n",
      "\n",
      "# providers_info.head(50)\n",
      "\n",
      "# importing work_data\n",
      "\n",
      "work_data = pd.read_csv('work.csv')\n",
      "work_data = work_data[0:29974]\n",
      "work_data.columns = ['practice_id', 'provider_id', 'obs_month', 'variable', 'value']\n",
      "\n",
      "key_id = work_data.practice_id + work_data.provider_id / 100\n",
      "\n",
      "work_data['key_id'] = key_id\n",
      "\n",
      "work_data_nested = work_data.set_index(['practice_id', 'provider_id', 'obs_month', 'variable', 'key_id']).unstack('variable')\n",
      "work_data = pd.DataFrame(work_data_nested.reset_index())\n",
      "work_data = work_data.rename(columns = {'value': 'work_vals'})\n",
      "\n",
      "# work_data.head()\n",
      "\n",
      "#importing emr_touches and adding to global_df\n",
      "\n",
      "emr_touches = pd.read_csv('emr_touches.csv')\n",
      "emr_touches = emr_touches[0:14987]\n",
      "emr_touches.columns = ['practice_id', 'provider_id', 'obs_month', 'keystrokes', 'mousestrokes']\n",
      "\n",
      "# emr_touches.tail(10)\n",
      "\n",
      "global_df = emr_touches\n",
      "global_df['encounters'] = work_data.work_vals.Encounters\n",
      "global_df['RVUs'] = work_data.work_vals.RVUs\n",
      "\n",
      "# global_df.tail(10)\n",
      "\n",
      "#importing emr_time\n",
      "\n",
      "emr_time = pd.read_csv('emr_time.csv')\n",
      "emr_time = emr_time[0:59948]\n",
      "\n",
      "emr_time.columns = ['practice_id', 'provider_id', 'obs_month', 'variable', 'value']\n",
      "emr_time_nested = emr_time.set_index(['practice_id', 'provider_id', 'obs_month', 'variable']).unstack('variable')\n",
      "\n",
      "emr_time = pd.DataFrame(emr_time_nested.reset_index())\n",
      "emr_time = emr_time.rename(columns = {'value': 'EMR_time'})\n",
      "\n",
      "global_df['exam_emr'] = emr_time.EMR_time['Time Exam']\n",
      "global_df['intake_emr'] = emr_time.EMR_time['Time Intake']\n",
      "global_df['postvisit_emr'] = emr_time.EMR_time['Time Postvisit']\n",
      "global_df['signoff_emr'] = emr_time.EMR_time['Time Signoff']\n",
      "global_df['key_id'] = global_df.practice_id + global_df.provider_id / 100\n",
      "\n",
      "#final merge\n",
      "temp_df = global_df\n",
      "total_df = pd.merge(temp_df[['key_id','obs_month', 'keystrokes', 'mousestrokes', 'encounters', 'RVUs', 'exam_emr', 'intake_emr',\\\n",
      "                             'postvisit_emr', 'signoff_emr']], providers_info, on = 'key_id')\n",
      "\n",
      "#calculating stats\n",
      "\n",
      "total_df['total_emr'] = total_df.exam_emr + total_df.intake_emr + total_df.postvisit_emr + total_df.signoff_emr\n",
      "total_df['encounters'] = total_df.encounters.replace(0, np.nan) #replacing encounters = 0 with nan\n",
      "total_df['grand_mee'] = total_df.total_emr / total_df.encounters # mee = Mean (total_Emr_time / Encounter)\n",
      "total_df['exam_emr_enc'] = total_df.exam_emr / total_df.encounters\n",
      "total_df['intake_emr_enc'] = total_df.intake_emr / total_df.encounters\n",
      "total_df['postvisit_emr_enc'] = total_df.postvisit_emr / total_df.encounters\n",
      "total_df['signoff_emr_enc'] = total_df.signoff_emr / total_df.encounters\n",
      "\n",
      "total_df['RVUs_enc'] = total_df.RVUs / total_df.encounters\n",
      "\n",
      "total_df['key_min'] = total_df.keystrokes / total_df.total_emr\n",
      "total_df['mouse_min'] = total_df.mousestrokes / total_df.total_emr\n",
      "\n",
      "total_df['key_enc'] = total_df.keystrokes / total_df.encounters\n",
      "total_df['mouse_enc'] = total_df.mousestrokes / total_df.encounters\n",
      "\n",
      "total_df = total_df[['key_id', 'obs_month', 'specialty', 'provider_level', 'grand_mee', 'intake_emr_enc', 'exam_emr_enc', \\\n",
      "                     'postvisit_emr_enc', 'signoff_emr_enc',\\\n",
      "                     'key_min', 'mouse_min', 'key_enc', 'mouse_enc',\\\n",
      "                     'encounters', 'RVUs_enc', 'exam_emr', 'intake_emr', 'postvisit_emr', 'signoff_emr', \\\n",
      "                     'tenure', 'practice_id', 'provider_id', 'keystrokes', 'mousestrokes', 'RVUs', 'total_emr']]\n",
      "total_df.drop('key_id', 1, inplace=True)\n",
      "print(total_df.shape)\n",
      "total_df.head(10)\n",
      "# total_df.describe()"
     ],
     "language": "python",
     "metadata": {},
     "outputs": [
      {
       "output_type": "stream",
       "stream": "stdout",
       "text": [
        "(15998, 25)\n"
       ]
      },
      {
       "html": [
        "<div style=\"max-height:1000px;max-width:1500px;overflow:auto;\">\n",
        "<table border=\"1\" class=\"dataframe\">\n",
        "  <thead>\n",
        "    <tr style=\"text-align: right;\">\n",
        "      <th></th>\n",
        "      <th>obs_month</th>\n",
        "      <th>specialty</th>\n",
        "      <th>provider_level</th>\n",
        "      <th>grand_mee</th>\n",
        "      <th>intake_emr_enc</th>\n",
        "      <th>exam_emr_enc</th>\n",
        "      <th>postvisit_emr_enc</th>\n",
        "      <th>signoff_emr_enc</th>\n",
        "      <th>key_min</th>\n",
        "      <th>mouse_min</th>\n",
        "      <th>...</th>\n",
        "      <th>intake_emr</th>\n",
        "      <th>postvisit_emr</th>\n",
        "      <th>signoff_emr</th>\n",
        "      <th>tenure</th>\n",
        "      <th>practice_id</th>\n",
        "      <th>provider_id</th>\n",
        "      <th>keystrokes</th>\n",
        "      <th>mousestrokes</th>\n",
        "      <th>RVUs</th>\n",
        "      <th>total_emr</th>\n",
        "    </tr>\n",
        "  </thead>\n",
        "  <tbody>\n",
        "    <tr>\n",
        "      <th>0</th>\n",
        "      <td> 1</td>\n",
        "      <td> PCP</td>\n",
        "      <td> MD</td>\n",
        "      <td> 11.122500</td>\n",
        "      <td> 0.158102</td>\n",
        "      <td>  8.874769</td>\n",
        "      <td> 1.702407</td>\n",
        "      <td> 0.387222</td>\n",
        "      <td>  61.223496</td>\n",
        "      <td> 7.693364</td>\n",
        "      <td>...</td>\n",
        "      <td> 34.15</td>\n",
        "      <td>  367.72</td>\n",
        "      <td> 83.64</td>\n",
        "      <td> 57</td>\n",
        "      <td> 1</td>\n",
        "      <td> 1</td>\n",
        "      <td> 147087</td>\n",
        "      <td> 18483</td>\n",
        "      <td> 512.68</td>\n",
        "      <td> 2402.46</td>\n",
        "    </tr>\n",
        "    <tr>\n",
        "      <th>1</th>\n",
        "      <td> 2</td>\n",
        "      <td> PCP</td>\n",
        "      <td> MD</td>\n",
        "      <td> 11.544661</td>\n",
        "      <td> 0.351873</td>\n",
        "      <td>  8.884422</td>\n",
        "      <td> 1.986773</td>\n",
        "      <td> 0.321594</td>\n",
        "      <td>  65.139369</td>\n",
        "      <td> 7.520766</td>\n",
        "      <td>...</td>\n",
        "      <td> 88.32</td>\n",
        "      <td>  498.68</td>\n",
        "      <td> 80.72</td>\n",
        "      <td> 57</td>\n",
        "      <td> 1</td>\n",
        "      <td> 1</td>\n",
        "      <td> 188755</td>\n",
        "      <td> 21793</td>\n",
        "      <td> 560.39</td>\n",
        "      <td> 2897.71</td>\n",
        "    </tr>\n",
        "    <tr>\n",
        "      <th>2</th>\n",
        "      <td> 3</td>\n",
        "      <td> PCP</td>\n",
        "      <td> MD</td>\n",
        "      <td> 11.730539</td>\n",
        "      <td> 0.132963</td>\n",
        "      <td>  9.532155</td>\n",
        "      <td> 1.860438</td>\n",
        "      <td> 0.204983</td>\n",
        "      <td>  65.474444</td>\n",
        "      <td> 7.550008</td>\n",
        "      <td>...</td>\n",
        "      <td> 39.49</td>\n",
        "      <td>  552.55</td>\n",
        "      <td> 60.88</td>\n",
        "      <td> 57</td>\n",
        "      <td> 1</td>\n",
        "      <td> 1</td>\n",
        "      <td> 228111</td>\n",
        "      <td> 26304</td>\n",
        "      <td> 574.39</td>\n",
        "      <td> 3483.97</td>\n",
        "    </tr>\n",
        "    <tr>\n",
        "      <th>3</th>\n",
        "      <td> 4</td>\n",
        "      <td> PCP</td>\n",
        "      <td> MD</td>\n",
        "      <td> 11.111716</td>\n",
        "      <td> 0.084067</td>\n",
        "      <td>  8.980187</td>\n",
        "      <td> 1.866418</td>\n",
        "      <td> 0.181045</td>\n",
        "      <td>  62.074790</td>\n",
        "      <td> 7.396724</td>\n",
        "      <td>...</td>\n",
        "      <td> 22.53</td>\n",
        "      <td>  500.20</td>\n",
        "      <td> 48.52</td>\n",
        "      <td> 57</td>\n",
        "      <td> 1</td>\n",
        "      <td> 1</td>\n",
        "      <td> 184855</td>\n",
        "      <td> 22027</td>\n",
        "      <td> 617.67</td>\n",
        "      <td> 2977.94</td>\n",
        "    </tr>\n",
        "    <tr>\n",
        "      <th>4</th>\n",
        "      <td> 5</td>\n",
        "      <td> PCP</td>\n",
        "      <td> MD</td>\n",
        "      <td> 12.033948</td>\n",
        "      <td> 0.081255</td>\n",
        "      <td> 10.027048</td>\n",
        "      <td> 1.707196</td>\n",
        "      <td> 0.218450</td>\n",
        "      <td>  63.664602</td>\n",
        "      <td> 7.725071</td>\n",
        "      <td>...</td>\n",
        "      <td> 22.02</td>\n",
        "      <td>  462.65</td>\n",
        "      <td> 59.20</td>\n",
        "      <td> 57</td>\n",
        "      <td> 1</td>\n",
        "      <td> 1</td>\n",
        "      <td> 207623</td>\n",
        "      <td> 25193</td>\n",
        "      <td> 675.09</td>\n",
        "      <td> 3261.20</td>\n",
        "    </tr>\n",
        "    <tr>\n",
        "      <th>5</th>\n",
        "      <td> 6</td>\n",
        "      <td> PCP</td>\n",
        "      <td> MD</td>\n",
        "      <td> 10.320464</td>\n",
        "      <td> 0.101750</td>\n",
        "      <td>  8.400036</td>\n",
        "      <td> 1.567750</td>\n",
        "      <td> 0.250929</td>\n",
        "      <td>  67.376537</td>\n",
        "      <td> 7.602786</td>\n",
        "      <td>...</td>\n",
        "      <td> 28.49</td>\n",
        "      <td>  438.97</td>\n",
        "      <td> 70.26</td>\n",
        "      <td> 57</td>\n",
        "      <td> 1</td>\n",
        "      <td> 1</td>\n",
        "      <td> 194700</td>\n",
        "      <td> 21970</td>\n",
        "      <td> 699.72</td>\n",
        "      <td> 2889.73</td>\n",
        "    </tr>\n",
        "    <tr>\n",
        "      <th>6</th>\n",
        "      <td> 1</td>\n",
        "      <td> PCP</td>\n",
        "      <td> MD</td>\n",
        "      <td> 13.838904</td>\n",
        "      <td> 0.000000</td>\n",
        "      <td>  9.295000</td>\n",
        "      <td> 4.459589</td>\n",
        "      <td> 0.084315</td>\n",
        "      <td> 103.261601</td>\n",
        "      <td> 5.133929</td>\n",
        "      <td>...</td>\n",
        "      <td>  0.00</td>\n",
        "      <td>  651.10</td>\n",
        "      <td> 12.31</td>\n",
        "      <td> 57</td>\n",
        "      <td> 1</td>\n",
        "      <td> 2</td>\n",
        "      <td> 208638</td>\n",
        "      <td> 10373</td>\n",
        "      <td> 322.52</td>\n",
        "      <td> 2020.48</td>\n",
        "    </tr>\n",
        "    <tr>\n",
        "      <th>7</th>\n",
        "      <td> 2</td>\n",
        "      <td> PCP</td>\n",
        "      <td> MD</td>\n",
        "      <td> 15.011773</td>\n",
        "      <td> 0.000000</td>\n",
        "      <td> 10.296667</td>\n",
        "      <td> 4.502695</td>\n",
        "      <td> 0.212411</td>\n",
        "      <td> 100.102048</td>\n",
        "      <td> 5.297497</td>\n",
        "      <td>...</td>\n",
        "      <td>  0.00</td>\n",
        "      <td>  634.88</td>\n",
        "      <td> 29.95</td>\n",
        "      <td> 57</td>\n",
        "      <td> 1</td>\n",
        "      <td> 2</td>\n",
        "      <td> 211882</td>\n",
        "      <td> 11213</td>\n",
        "      <td> 346.73</td>\n",
        "      <td> 2116.66</td>\n",
        "    </tr>\n",
        "    <tr>\n",
        "      <th>8</th>\n",
        "      <td> 3</td>\n",
        "      <td> PCP</td>\n",
        "      <td> MD</td>\n",
        "      <td> 16.074286</td>\n",
        "      <td> 0.000000</td>\n",
        "      <td> 11.298067</td>\n",
        "      <td> 4.651429</td>\n",
        "      <td> 0.124790</td>\n",
        "      <td>  99.535246</td>\n",
        "      <td> 5.501244</td>\n",
        "      <td>...</td>\n",
        "      <td>  0.00</td>\n",
        "      <td>  553.52</td>\n",
        "      <td> 14.85</td>\n",
        "      <td> 57</td>\n",
        "      <td> 1</td>\n",
        "      <td> 2</td>\n",
        "      <td> 190395</td>\n",
        "      <td> 10523</td>\n",
        "      <td> 214.47</td>\n",
        "      <td> 1912.84</td>\n",
        "    </tr>\n",
        "    <tr>\n",
        "      <th>9</th>\n",
        "      <td> 4</td>\n",
        "      <td> PCP</td>\n",
        "      <td> MD</td>\n",
        "      <td> 15.386704</td>\n",
        "      <td> 0.000000</td>\n",
        "      <td>  9.639888</td>\n",
        "      <td> 5.705363</td>\n",
        "      <td> 0.041453</td>\n",
        "      <td> 105.356871</td>\n",
        "      <td> 5.058056</td>\n",
        "      <td>...</td>\n",
        "      <td>  0.00</td>\n",
        "      <td> 1021.26</td>\n",
        "      <td>  7.42</td>\n",
        "      <td> 57</td>\n",
        "      <td> 1</td>\n",
        "      <td> 2</td>\n",
        "      <td> 290176</td>\n",
        "      <td> 13931</td>\n",
        "      <td> 305.62</td>\n",
        "      <td> 2754.22</td>\n",
        "    </tr>\n",
        "  </tbody>\n",
        "</table>\n",
        "<p>10 rows \u00d7 25 columns</p>\n",
        "</div>"
       ],
       "metadata": {},
       "output_type": "pyout",
       "prompt_number": 3,
       "text": [
        "   obs_month specialty provider_level  grand_mee  intake_emr_enc  \\\n",
        "0          1       PCP             MD  11.122500        0.158102   \n",
        "1          2       PCP             MD  11.544661        0.351873   \n",
        "2          3       PCP             MD  11.730539        0.132963   \n",
        "3          4       PCP             MD  11.111716        0.084067   \n",
        "4          5       PCP             MD  12.033948        0.081255   \n",
        "5          6       PCP             MD  10.320464        0.101750   \n",
        "6          1       PCP             MD  13.838904        0.000000   \n",
        "7          2       PCP             MD  15.011773        0.000000   \n",
        "8          3       PCP             MD  16.074286        0.000000   \n",
        "9          4       PCP             MD  15.386704        0.000000   \n",
        "\n",
        "   exam_emr_enc  postvisit_emr_enc  signoff_emr_enc     key_min  mouse_min  \\\n",
        "0      8.874769           1.702407         0.387222   61.223496   7.693364   \n",
        "1      8.884422           1.986773         0.321594   65.139369   7.520766   \n",
        "2      9.532155           1.860438         0.204983   65.474444   7.550008   \n",
        "3      8.980187           1.866418         0.181045   62.074790   7.396724   \n",
        "4     10.027048           1.707196         0.218450   63.664602   7.725071   \n",
        "5      8.400036           1.567750         0.250929   67.376537   7.602786   \n",
        "6      9.295000           4.459589         0.084315  103.261601   5.133929   \n",
        "7     10.296667           4.502695         0.212411  100.102048   5.297497   \n",
        "8     11.298067           4.651429         0.124790   99.535246   5.501244   \n",
        "9      9.639888           5.705363         0.041453  105.356871   5.058056   \n",
        "\n",
        "     ...      intake_emr  postvisit_emr  signoff_emr  tenure  practice_id  \\\n",
        "0    ...           34.15         367.72        83.64      57            1   \n",
        "1    ...           88.32         498.68        80.72      57            1   \n",
        "2    ...           39.49         552.55        60.88      57            1   \n",
        "3    ...           22.53         500.20        48.52      57            1   \n",
        "4    ...           22.02         462.65        59.20      57            1   \n",
        "5    ...           28.49         438.97        70.26      57            1   \n",
        "6    ...            0.00         651.10        12.31      57            1   \n",
        "7    ...            0.00         634.88        29.95      57            1   \n",
        "8    ...            0.00         553.52        14.85      57            1   \n",
        "9    ...            0.00        1021.26         7.42      57            1   \n",
        "\n",
        "   provider_id  keystrokes  mousestrokes    RVUs  total_emr  \n",
        "0            1      147087         18483  512.68    2402.46  \n",
        "1            1      188755         21793  560.39    2897.71  \n",
        "2            1      228111         26304  574.39    3483.97  \n",
        "3            1      184855         22027  617.67    2977.94  \n",
        "4            1      207623         25193  675.09    3261.20  \n",
        "5            1      194700         21970  699.72    2889.73  \n",
        "6            2      208638         10373  322.52    2020.48  \n",
        "7            2      211882         11213  346.73    2116.66  \n",
        "8            2      190395         10523  214.47    1912.84  \n",
        "9            2      290176         13931  305.62    2754.22  \n",
        "\n",
        "[10 rows x 25 columns]"
       ]
      }
     ],
     "prompt_number": 3
    },
    {
     "cell_type": "code",
     "collapsed": false,
     "input": [
      "total_df.tail()"
     ],
     "language": "python",
     "metadata": {},
     "outputs": [
      {
       "html": [
        "<div style=\"max-height:1000px;max-width:1500px;overflow:auto;\">\n",
        "<table border=\"1\" class=\"dataframe\">\n",
        "  <thead>\n",
        "    <tr style=\"text-align: right;\">\n",
        "      <th></th>\n",
        "      <th>obs_month</th>\n",
        "      <th>specialty</th>\n",
        "      <th>provider_level</th>\n",
        "      <th>grand_mee</th>\n",
        "      <th>intake_emr_enc</th>\n",
        "      <th>exam_emr_enc</th>\n",
        "      <th>postvisit_emr_enc</th>\n",
        "      <th>signoff_emr_enc</th>\n",
        "      <th>key_min</th>\n",
        "      <th>mouse_min</th>\n",
        "      <th>...</th>\n",
        "      <th>intake_emr</th>\n",
        "      <th>postvisit_emr</th>\n",
        "      <th>signoff_emr</th>\n",
        "      <th>tenure</th>\n",
        "      <th>practice_id</th>\n",
        "      <th>provider_id</th>\n",
        "      <th>keystrokes</th>\n",
        "      <th>mousestrokes</th>\n",
        "      <th>RVUs</th>\n",
        "      <th>total_emr</th>\n",
        "    </tr>\n",
        "  </thead>\n",
        "  <tbody>\n",
        "    <tr>\n",
        "      <th>15993</th>\n",
        "      <td> 2</td>\n",
        "      <td> Surgery</td>\n",
        "      <td> MD</td>\n",
        "      <td> 0.229045</td>\n",
        "      <td> 0.002611</td>\n",
        "      <td> 0.020828</td>\n",
        "      <td> 0.205605</td>\n",
        "      <td> 0</td>\n",
        "      <td> 7.703003</td>\n",
        "      <td> 36.985539</td>\n",
        "      <td>...</td>\n",
        "      <td> 0.41</td>\n",
        "      <td> 32.28</td>\n",
        "      <td> 0</td>\n",
        "      <td> 30</td>\n",
        "      <td> 199</td>\n",
        "      <td> 2</td>\n",
        "      <td> 277</td>\n",
        "      <td> 1330</td>\n",
        "      <td> 1038.70</td>\n",
        "      <td> 35.96</td>\n",
        "    </tr>\n",
        "    <tr>\n",
        "      <th>15994</th>\n",
        "      <td> 5</td>\n",
        "      <td> Surgery</td>\n",
        "      <td> MD</td>\n",
        "      <td> 0.223832</td>\n",
        "      <td> 0.000000</td>\n",
        "      <td> 0.000000</td>\n",
        "      <td> 0.223832</td>\n",
        "      <td> 0</td>\n",
        "      <td> 0.428036</td>\n",
        "      <td> 35.393258</td>\n",
        "      <td>...</td>\n",
        "      <td> 0.00</td>\n",
        "      <td> 37.38</td>\n",
        "      <td> 0</td>\n",
        "      <td> 30</td>\n",
        "      <td> 199</td>\n",
        "      <td> 2</td>\n",
        "      <td>  16</td>\n",
        "      <td> 1323</td>\n",
        "      <td> 1022.80</td>\n",
        "      <td> 37.38</td>\n",
        "    </tr>\n",
        "    <tr>\n",
        "      <th>15995</th>\n",
        "      <td> 4</td>\n",
        "      <td> Surgery</td>\n",
        "      <td> MD</td>\n",
        "      <td> 0.100619</td>\n",
        "      <td> 0.000000</td>\n",
        "      <td> 0.000000</td>\n",
        "      <td> 0.100619</td>\n",
        "      <td> 0</td>\n",
        "      <td> 4.405738</td>\n",
        "      <td> 30.327869</td>\n",
        "      <td>...</td>\n",
        "      <td> 0.00</td>\n",
        "      <td>  9.76</td>\n",
        "      <td> 0</td>\n",
        "      <td> 29</td>\n",
        "      <td> 199</td>\n",
        "      <td> 3</td>\n",
        "      <td>  43</td>\n",
        "      <td>  296</td>\n",
        "      <td>  657.69</td>\n",
        "      <td>  9.76</td>\n",
        "    </tr>\n",
        "    <tr>\n",
        "      <th>15996</th>\n",
        "      <td> 1</td>\n",
        "      <td> Surgery</td>\n",
        "      <td> MD</td>\n",
        "      <td> 0.095773</td>\n",
        "      <td> 0.000000</td>\n",
        "      <td> 0.000000</td>\n",
        "      <td> 0.095773</td>\n",
        "      <td> 0</td>\n",
        "      <td> 0.645856</td>\n",
        "      <td> 27.018299</td>\n",
        "      <td>...</td>\n",
        "      <td> 0.00</td>\n",
        "      <td>  9.29</td>\n",
        "      <td> 0</td>\n",
        "      <td> 31</td>\n",
        "      <td> 199</td>\n",
        "      <td> 4</td>\n",
        "      <td>   6</td>\n",
        "      <td>  251</td>\n",
        "      <td>  601.84</td>\n",
        "      <td>  9.29</td>\n",
        "    </tr>\n",
        "    <tr>\n",
        "      <th>15997</th>\n",
        "      <td> 6</td>\n",
        "      <td> Surgery</td>\n",
        "      <td> MD</td>\n",
        "      <td> 0.093929</td>\n",
        "      <td> 0.000000</td>\n",
        "      <td> 0.001905</td>\n",
        "      <td> 0.092024</td>\n",
        "      <td> 0</td>\n",
        "      <td> 0.506971</td>\n",
        "      <td> 34.980989</td>\n",
        "      <td>...</td>\n",
        "      <td> 0.00</td>\n",
        "      <td>  7.73</td>\n",
        "      <td> 0</td>\n",
        "      <td> 31</td>\n",
        "      <td> 199</td>\n",
        "      <td> 4</td>\n",
        "      <td>   4</td>\n",
        "      <td>  276</td>\n",
        "      <td>  472.78</td>\n",
        "      <td>  7.89</td>\n",
        "    </tr>\n",
        "  </tbody>\n",
        "</table>\n",
        "<p>5 rows \u00d7 25 columns</p>\n",
        "</div>"
       ],
       "metadata": {},
       "output_type": "pyout",
       "prompt_number": 4,
       "text": [
        "       obs_month specialty provider_level  grand_mee  intake_emr_enc  \\\n",
        "15993          2   Surgery             MD   0.229045        0.002611   \n",
        "15994          5   Surgery             MD   0.223832        0.000000   \n",
        "15995          4   Surgery             MD   0.100619        0.000000   \n",
        "15996          1   Surgery             MD   0.095773        0.000000   \n",
        "15997          6   Surgery             MD   0.093929        0.000000   \n",
        "\n",
        "       exam_emr_enc  postvisit_emr_enc  signoff_emr_enc   key_min  mouse_min  \\\n",
        "15993      0.020828           0.205605                0  7.703003  36.985539   \n",
        "15994      0.000000           0.223832                0  0.428036  35.393258   \n",
        "15995      0.000000           0.100619                0  4.405738  30.327869   \n",
        "15996      0.000000           0.095773                0  0.645856  27.018299   \n",
        "15997      0.001905           0.092024                0  0.506971  34.980989   \n",
        "\n",
        "         ...      intake_emr  postvisit_emr  signoff_emr  tenure  practice_id  \\\n",
        "15993    ...            0.41          32.28            0      30          199   \n",
        "15994    ...            0.00          37.38            0      30          199   \n",
        "15995    ...            0.00           9.76            0      29          199   \n",
        "15996    ...            0.00           9.29            0      31          199   \n",
        "15997    ...            0.00           7.73            0      31          199   \n",
        "\n",
        "       provider_id  keystrokes  mousestrokes     RVUs  total_emr  \n",
        "15993            2         277          1330  1038.70      35.96  \n",
        "15994            2          16          1323  1022.80      37.38  \n",
        "15995            3          43           296   657.69       9.76  \n",
        "15996            4           6           251   601.84       9.29  \n",
        "15997            4           4           276   472.78       7.89  \n",
        "\n",
        "[5 rows x 25 columns]"
       ]
      }
     ],
     "prompt_number": 4
    },
    {
     "cell_type": "code",
     "collapsed": false,
     "input": [
      "total_df.columns"
     ],
     "language": "python",
     "metadata": {},
     "outputs": [
      {
       "metadata": {},
       "output_type": "pyout",
       "prompt_number": 5,
       "text": [
        "Index(['obs_month', 'specialty', 'provider_level', 'grand_mee', 'intake_emr_enc', 'exam_emr_enc', 'postvisit_emr_enc', 'signoff_emr_enc', 'key_min', 'mouse_min', 'key_enc', 'mouse_enc', 'encounters', 'RVUs_enc', 'exam_emr', 'intake_emr', 'postvisit_emr', 'signoff_emr', 'tenure', 'practice_id', 'provider_id', 'keystrokes', 'mousestrokes', 'RVUs', 'total_emr'], dtype='object')"
       ]
      }
     ],
     "prompt_number": 5
    },
    {
     "cell_type": "code",
     "collapsed": false,
     "input": [
      "naless = total_df.dropna()"
     ],
     "language": "python",
     "metadata": {},
     "outputs": [],
     "prompt_number": 4
    },
    {
     "cell_type": "code",
     "collapsed": false,
     "input": [
      "naless.shape"
     ],
     "language": "python",
     "metadata": {},
     "outputs": [
      {
       "metadata": {},
       "output_type": "pyout",
       "prompt_number": 5,
       "text": [
        "(15938, 25)"
       ]
      }
     ],
     "prompt_number": 5
    },
    {
     "cell_type": "code",
     "collapsed": false,
     "input": [
      "new_df = pd.get_dummies(naless)\n",
      "new_df.columns"
     ],
     "language": "python",
     "metadata": {},
     "outputs": [
      {
       "metadata": {},
       "output_type": "pyout",
       "prompt_number": 6,
       "text": [
        "Index(['obs_month', 'grand_mee', 'intake_emr_enc', 'exam_emr_enc', 'postvisit_emr_enc', 'signoff_emr_enc', 'key_min', 'mouse_min', 'key_enc', 'mouse_enc', 'encounters', 'RVUs_enc', 'exam_emr', 'intake_emr', 'postvisit_emr', 'signoff_emr', 'tenure', 'practice_id', 'provider_id', 'keystrokes', 'mousestrokes', 'RVUs', 'total_emr', 'specialty_Cardiology', 'specialty_OB/GYN', 'specialty_PCP', 'specialty_Surgery', 'provider_level_MD', 'provider_level_Mid-level'], dtype='object')"
       ]
      }
     ],
     "prompt_number": 6
    },
    {
     "cell_type": "code",
     "collapsed": false,
     "input": [
      "multiplier = ['specialty_Cardiology', 'specialty_OB/GYN', 'specialty_PCP', 'specialty_Surgery', 'provider_level_MD',\\\n",
      "            'provider_level_Mid-level']\n",
      "multiplied = ['mouse_enc', 'mouse_min', 'key_enc', 'key_min', 'keystrokes', 'mousestrokes', 'RVUs_enc', 'tenure']\n",
      "\n",
      "for i in multiplier:\n",
      "    for j in multiplied:\n",
      "        new_df['{}_x_{}'.format(i, j)] = new_df[i] * new_df[j]\n",
      "#         print('{i}_x_{j}'.format(i, j))\n",
      "#         print(i, \"_x_\", j, sep=\"\")\n",
      "        \n",
      "new_df.columns.values"
     ],
     "language": "python",
     "metadata": {},
     "outputs": [
      {
       "metadata": {},
       "output_type": "pyout",
       "prompt_number": 7,
       "text": [
        "array(['obs_month', 'grand_mee', 'intake_emr_enc', 'exam_emr_enc',\n",
        "       'postvisit_emr_enc', 'signoff_emr_enc', 'key_min', 'mouse_min',\n",
        "       'key_enc', 'mouse_enc', 'encounters', 'RVUs_enc', 'exam_emr',\n",
        "       'intake_emr', 'postvisit_emr', 'signoff_emr', 'tenure',\n",
        "       'practice_id', 'provider_id', 'keystrokes', 'mousestrokes', 'RVUs',\n",
        "       'total_emr', 'specialty_Cardiology', 'specialty_OB/GYN',\n",
        "       'specialty_PCP', 'specialty_Surgery', 'provider_level_MD',\n",
        "       'provider_level_Mid-level', 'specialty_Cardiology_x_mouse_enc',\n",
        "       'specialty_Cardiology_x_mouse_min',\n",
        "       'specialty_Cardiology_x_key_enc', 'specialty_Cardiology_x_key_min',\n",
        "       'specialty_Cardiology_x_keystrokes',\n",
        "       'specialty_Cardiology_x_mousestrokes',\n",
        "       'specialty_Cardiology_x_RVUs_enc', 'specialty_Cardiology_x_tenure',\n",
        "       'specialty_OB/GYN_x_mouse_enc', 'specialty_OB/GYN_x_mouse_min',\n",
        "       'specialty_OB/GYN_x_key_enc', 'specialty_OB/GYN_x_key_min',\n",
        "       'specialty_OB/GYN_x_keystrokes', 'specialty_OB/GYN_x_mousestrokes',\n",
        "       'specialty_OB/GYN_x_RVUs_enc', 'specialty_OB/GYN_x_tenure',\n",
        "       'specialty_PCP_x_mouse_enc', 'specialty_PCP_x_mouse_min',\n",
        "       'specialty_PCP_x_key_enc', 'specialty_PCP_x_key_min',\n",
        "       'specialty_PCP_x_keystrokes', 'specialty_PCP_x_mousestrokes',\n",
        "       'specialty_PCP_x_RVUs_enc', 'specialty_PCP_x_tenure',\n",
        "       'specialty_Surgery_x_mouse_enc', 'specialty_Surgery_x_mouse_min',\n",
        "       'specialty_Surgery_x_key_enc', 'specialty_Surgery_x_key_min',\n",
        "       'specialty_Surgery_x_keystrokes',\n",
        "       'specialty_Surgery_x_mousestrokes', 'specialty_Surgery_x_RVUs_enc',\n",
        "       'specialty_Surgery_x_tenure', 'provider_level_MD_x_mouse_enc',\n",
        "       'provider_level_MD_x_mouse_min', 'provider_level_MD_x_key_enc',\n",
        "       'provider_level_MD_x_key_min', 'provider_level_MD_x_keystrokes',\n",
        "       'provider_level_MD_x_mousestrokes', 'provider_level_MD_x_RVUs_enc',\n",
        "       'provider_level_MD_x_tenure',\n",
        "       'provider_level_Mid-level_x_mouse_enc',\n",
        "       'provider_level_Mid-level_x_mouse_min',\n",
        "       'provider_level_Mid-level_x_key_enc',\n",
        "       'provider_level_Mid-level_x_key_min',\n",
        "       'provider_level_Mid-level_x_keystrokes',\n",
        "       'provider_level_Mid-level_x_mousestrokes',\n",
        "       'provider_level_Mid-level_x_RVUs_enc',\n",
        "       'provider_level_Mid-level_x_tenure'], dtype=object)"
       ]
      }
     ],
     "prompt_number": 7
    },
    {
     "cell_type": "code",
     "collapsed": false,
     "input": [
      "# s1 = 'string 1'\n",
      "# s2 = 'string 2'\n",
      "\n",
      "# 'word {}, {}'.format(s1, s2)"
     ],
     "language": "python",
     "metadata": {},
     "outputs": [],
     "prompt_number": 8
    },
    {
     "cell_type": "code",
     "collapsed": false,
     "input": [
      "cols = ['mouse_enc', 'mouse_min', 'key_enc', 'key_min', 'keystrokes', 'mousestrokes', 'RVUs_enc', 'tenure', \\\n",
      "            'specialty_Cardiology', 'specialty_OB/GYN', 'specialty_PCP', 'specialty_Surgery', 'provider_level_MD',\\\n",
      "            'provider_level_Mid-level',\n",
      "            'provider_level_Mid-level', 'specialty_Cardiology_x_mouse_enc',\n",
      "           'specialty_Cardiology_x_mouse_min',\n",
      "           'specialty_Cardiology_x_key_enc', 'specialty_Cardiology_x_key_min',\n",
      "           'specialty_Cardiology_x_keystrokes',\n",
      "           'specialty_Cardiology_x_mousestrokes',\n",
      "           'specialty_Cardiology_x_RVUs_enc', 'specialty_Cardiology_x_tenure',\n",
      "           'specialty_OB/GYN_x_mouse_enc', 'specialty_OB/GYN_x_mouse_min',\n",
      "           'specialty_OB/GYN_x_key_enc', 'specialty_OB/GYN_x_key_min',\n",
      "           'specialty_OB/GYN_x_keystrokes', 'specialty_OB/GYN_x_mousestrokes',\n",
      "           'specialty_OB/GYN_x_RVUs_enc', 'specialty_OB/GYN_x_tenure',\n",
      "           'specialty_PCP_x_mouse_enc', 'specialty_PCP_x_mouse_min',\n",
      "           'specialty_PCP_x_key_enc', 'specialty_PCP_x_key_min',\n",
      "           'specialty_PCP_x_keystrokes', 'specialty_PCP_x_mousestrokes',\n",
      "           'specialty_PCP_x_RVUs_enc', 'specialty_PCP_x_tenure',\n",
      "           'specialty_Surgery_x_mouse_enc', 'specialty_Surgery_x_mouse_min',\n",
      "           'specialty_Surgery_x_key_enc', 'specialty_Surgery_x_key_min',\n",
      "           'specialty_Surgery_x_keystrokes',\n",
      "           'specialty_Surgery_x_mousestrokes', 'specialty_Surgery_x_RVUs_enc',\n",
      "           'specialty_Surgery_x_tenure', 'provider_level_MD_x_mouse_enc',\n",
      "           'provider_level_MD_x_mouse_min', 'provider_level_MD_x_key_enc',\n",
      "           'provider_level_MD_x_key_min', 'provider_level_MD_x_keystrokes',\n",
      "           'provider_level_MD_x_mousestrokes', 'provider_level_MD_x_RVUs_enc',\n",
      "           'provider_level_MD_x_tenure',\n",
      "           'provider_level_Mid-level_x_mouse_enc',\n",
      "           'provider_level_Mid-level_x_mouse_min',\n",
      "           'provider_level_Mid-level_x_key_enc',\n",
      "           'provider_level_Mid-level_x_key_min',\n",
      "           'provider_level_Mid-level_x_keystrokes',\n",
      "           'provider_level_Mid-level_x_mousestrokes',\n",
      "           'provider_level_Mid-level_x_RVUs_enc',\n",
      "           'provider_level_Mid-level_x_tenure']\n",
      "\n",
      "# cols = new_df.drop('grand_mee', 1).columns.values\n",
      "\n",
      "X = new_df[cols].values\n",
      "Y = new_df.grand_mee.values\n",
      "np.shape(X)"
     ],
     "language": "python",
     "metadata": {},
     "outputs": [
      {
       "metadata": {},
       "output_type": "pyout",
       "prompt_number": 10,
       "text": [
        "(15938, 63)"
       ]
      }
     ],
     "prompt_number": 10
    },
    {
     "cell_type": "code",
     "collapsed": false,
     "input": [
      "gbr = GradientBoostingRegressor(verbose=1, n_estimators=1000) # learning_rate=0.01, max_depth=10\n",
      "try_model(X, Y, gbr)"
     ],
     "language": "python",
     "metadata": {},
     "outputs": [
      {
       "output_type": "stream",
       "stream": "stdout",
       "text": [
        "start fitting...  21:01:18\n",
        "      Iter       Train Loss   Remaining Time \n",
        "         1          32.7376            5.13m"
       ]
      },
      {
       "output_type": "stream",
       "stream": "stdout",
       "text": [
        "\n",
        "         2          27.8361            4.29m"
       ]
      },
      {
       "output_type": "stream",
       "stream": "stdout",
       "text": [
        "\n",
        "         3          23.9191            4.07m"
       ]
      },
      {
       "output_type": "stream",
       "stream": "stdout",
       "text": [
        "\n",
        "         4          20.5114            3.59m"
       ]
      },
      {
       "output_type": "stream",
       "stream": "stdout",
       "text": [
        "\n",
        "         5          17.6618            3.47m"
       ]
      },
      {
       "output_type": "stream",
       "stream": "stdout",
       "text": [
        "\n",
        "         6          15.2851            3.49m"
       ]
      },
      {
       "output_type": "stream",
       "stream": "stdout",
       "text": [
        "\n",
        "         7          13.2609            3.52m"
       ]
      },
      {
       "output_type": "stream",
       "stream": "stdout",
       "text": [
        "\n",
        "         8          11.5793            3.53m"
       ]
      },
      {
       "output_type": "stream",
       "stream": "stdout",
       "text": [
        "\n",
        "         9          10.0864            3.55m"
       ]
      },
      {
       "output_type": "stream",
       "stream": "stdout",
       "text": [
        "\n",
        "        10           8.8287            3.44m"
       ]
      },
      {
       "output_type": "stream",
       "stream": "stdout",
       "text": [
        "\n",
        "        20           2.7109            3.21m"
       ]
      },
      {
       "output_type": "stream",
       "stream": "stdout",
       "text": [
        "\n",
        "        30           1.0878            2.99m"
       ]
      },
      {
       "output_type": "stream",
       "stream": "stdout",
       "text": [
        "\n",
        "        40           0.5607            2.88m"
       ]
      },
      {
       "output_type": "stream",
       "stream": "stdout",
       "text": [
        "\n",
        "        50           0.3418            2.66m"
       ]
      },
      {
       "output_type": "stream",
       "stream": "stdout",
       "text": [
        "\n",
        "        60           0.2336            2.61m"
       ]
      },
      {
       "output_type": "stream",
       "stream": "stdout",
       "text": [
        "\n",
        "        70           0.1712            2.53m"
       ]
      },
      {
       "output_type": "stream",
       "stream": "stdout",
       "text": [
        "\n",
        "        80           0.1368            2.47m"
       ]
      },
      {
       "output_type": "stream",
       "stream": "stdout",
       "text": [
        "\n",
        "        90           0.1135            2.38m"
       ]
      },
      {
       "output_type": "stream",
       "stream": "stdout",
       "text": [
        "\n",
        "       100           0.0984            2.35m"
       ]
      },
      {
       "output_type": "stream",
       "stream": "stdout",
       "text": [
        "\n",
        "       200           0.0548            1.92m"
       ]
      },
      {
       "output_type": "stream",
       "stream": "stdout",
       "text": [
        "\n",
        "       300           0.0405            1.65m"
       ]
      },
      {
       "output_type": "stream",
       "stream": "stdout",
       "text": [
        "\n",
        "       400           0.0318            1.39m"
       ]
      },
      {
       "output_type": "stream",
       "stream": "stdout",
       "text": [
        "\n",
        "       500           0.0259            1.15m"
       ]
      },
      {
       "output_type": "stream",
       "stream": "stdout",
       "text": [
        "\n",
        "       600           0.0219           55.56s"
       ]
      },
      {
       "output_type": "stream",
       "stream": "stdout",
       "text": [
        "\n",
        "       700           0.0192           41.21s"
       ]
      },
      {
       "output_type": "stream",
       "stream": "stdout",
       "text": [
        "\n",
        "       800           0.0168           27.30s"
       ]
      },
      {
       "output_type": "stream",
       "stream": "stdout",
       "text": [
        "\n",
        "       900           0.0148           13.64s"
       ]
      },
      {
       "output_type": "stream",
       "stream": "stdout",
       "text": [
        "\n",
        "      1000           0.0134            0.00s"
       ]
      },
      {
       "output_type": "stream",
       "stream": "stdout",
       "text": [
        "\n",
        "done fitting...  21:03:34\n",
        "mean squared error: "
       ]
      },
      {
       "output_type": "stream",
       "stream": "stdout",
       "text": [
        " 0.143384781459\n",
        "explained variance score: "
       ]
      },
      {
       "output_type": "stream",
       "stream": "stdout",
       "text": [
        " 0.995202392211\n"
       ]
      }
     ],
     "prompt_number": 33
    },
    {
     "cell_type": "code",
     "collapsed": false,
     "input": [
      "gbr.fit(X, Y)"
     ],
     "language": "python",
     "metadata": {},
     "outputs": [
      {
       "output_type": "stream",
       "stream": "stdout",
       "text": [
        "      Iter       Train Loss   Remaining Time \n",
        "         1          31.2913            4.69m"
       ]
      },
      {
       "output_type": "stream",
       "stream": "stdout",
       "text": [
        "\n",
        "         2          26.8424            3.83m"
       ]
      },
      {
       "output_type": "stream",
       "stream": "stdout",
       "text": [
        "\n",
        "         3          22.9425            3.47m"
       ]
      },
      {
       "output_type": "stream",
       "stream": "stdout",
       "text": [
        "\n",
        "         4          19.7700            3.32m"
       ]
      },
      {
       "output_type": "stream",
       "stream": "stdout",
       "text": [
        "\n",
        "         5          17.1167            3.30m"
       ]
      },
      {
       "output_type": "stream",
       "stream": "stdout",
       "text": [
        "\n",
        "         6          14.8197            3.29m"
       ]
      },
      {
       "output_type": "stream",
       "stream": "stdout",
       "text": [
        "\n",
        "         7          12.8357            3.20m"
       ]
      },
      {
       "output_type": "stream",
       "stream": "stdout",
       "text": [
        "\n",
        "         8          11.1717            3.22m"
       ]
      },
      {
       "output_type": "stream",
       "stream": "stdout",
       "text": [
        "\n",
        "         9           9.7721            3.17m"
       ]
      },
      {
       "output_type": "stream",
       "stream": "stdout",
       "text": [
        "\n",
        "        10           8.5662            3.13m"
       ]
      },
      {
       "output_type": "stream",
       "stream": "stdout",
       "text": [
        "\n",
        "        20           2.6328            3.05m"
       ]
      },
      {
       "output_type": "stream",
       "stream": "stdout",
       "text": [
        "\n",
        "        30           1.0858            3.07m"
       ]
      },
      {
       "output_type": "stream",
       "stream": "stdout",
       "text": [
        "\n",
        "        40           0.5766            3.05m"
       ]
      },
      {
       "output_type": "stream",
       "stream": "stdout",
       "text": [
        "\n",
        "        50           0.3572            3.01m"
       ]
      },
      {
       "output_type": "stream",
       "stream": "stdout",
       "text": [
        "\n",
        "        60           0.2451            3.03m"
       ]
      },
      {
       "output_type": "stream",
       "stream": "stdout",
       "text": [
        "\n",
        "        70           0.1844            3.01m"
       ]
      },
      {
       "output_type": "stream",
       "stream": "stdout",
       "text": [
        "\n",
        "        80           0.1484            2.92m"
       ]
      },
      {
       "output_type": "stream",
       "stream": "stdout",
       "text": [
        "\n",
        "        90           0.1263            2.85m"
       ]
      },
      {
       "output_type": "stream",
       "stream": "stdout",
       "text": [
        "\n",
        "       100           0.1123            2.87m"
       ]
      },
      {
       "output_type": "stream",
       "stream": "stdout",
       "text": [
        "\n",
        "       200           0.0627            2.46m"
       ]
      },
      {
       "output_type": "stream",
       "stream": "stdout",
       "text": [
        "\n",
        "       300           0.0478            2.07m"
       ]
      },
      {
       "output_type": "stream",
       "stream": "stdout",
       "text": [
        "\n",
        "       400           0.0369            1.72m"
       ]
      },
      {
       "output_type": "stream",
       "stream": "stdout",
       "text": [
        "\n",
        "       500           0.0303            1.43m"
       ]
      },
      {
       "output_type": "stream",
       "stream": "stdout",
       "text": [
        "\n",
        "       600           0.0257            1.11m"
       ]
      },
      {
       "output_type": "stream",
       "stream": "stdout",
       "text": [
        "\n",
        "       700           0.0223           48.93s"
       ]
      },
      {
       "output_type": "stream",
       "stream": "stdout",
       "text": [
        "\n",
        "       800           0.0196           32.30s"
       ]
      },
      {
       "output_type": "stream",
       "stream": "stdout",
       "text": [
        "\n",
        "       900           0.0175           15.96s"
       ]
      },
      {
       "output_type": "stream",
       "stream": "stdout",
       "text": [
        "\n",
        "      1000           0.0157            0.00s"
       ]
      },
      {
       "output_type": "stream",
       "stream": "stdout",
       "text": [
        "\n"
       ]
      },
      {
       "metadata": {},
       "output_type": "pyout",
       "prompt_number": 30,
       "text": [
        "GradientBoostingRegressor(alpha=0.9, init=None, learning_rate=0.1, loss='ls',\n",
        "             max_depth=3, max_features=None, max_leaf_nodes=None,\n",
        "             min_samples_leaf=1, min_samples_split=2, n_estimators=1000,\n",
        "             random_state=None, subsample=1.0, verbose=1, warm_start=False)"
       ]
      }
     ],
     "prompt_number": 30
    },
    {
     "cell_type": "code",
     "collapsed": false,
     "input": [
      "feat_imports = dict(zip(cols, gbr.feature_importances_))\n",
      "import operator\n",
      "sorted(feat_imports.items(), key=operator.itemgetter(1), reverse=True)"
     ],
     "language": "python",
     "metadata": {},
     "outputs": [
      {
       "metadata": {},
       "output_type": "pyout",
       "prompt_number": 32,
       "text": [
        "[('mouse_enc', 0.2054611385973743),\n",
        " ('mouse_min', 0.15797401037821732),\n",
        " ('key_enc', 0.083886500663987423),\n",
        " ('key_min', 0.067807386362596089),\n",
        " ('specialty_PCP_x_mouse_enc', 0.053360206595329383),\n",
        " ('provider_level_MD_x_mouse_enc', 0.049699234625246731),\n",
        " ('provider_level_MD_x_key_enc', 0.032219635873618868),\n",
        " ('specialty_PCP_x_mouse_min', 0.02826090300879941),\n",
        " ('specialty_PCP_x_key_enc', 0.027704567126274064),\n",
        " ('provider_level_MD_x_mouse_min', 0.023344702379635131),\n",
        " ('provider_level_Mid-level_x_mouse_enc', 0.019261695833764424),\n",
        " ('provider_level_MD_x_key_min', 0.017709390151872929),\n",
        " ('specialty_PCP_x_key_min', 0.016636755663963249),\n",
        " ('specialty_Surgery_x_mouse_enc', 0.012023664027185242),\n",
        " ('specialty_Cardiology_x_mouse_enc', 0.011827510175429381),\n",
        " ('specialty_Surgery_x_key_enc', 0.010620053518474616),\n",
        " ('provider_level_MD_x_RVUs_enc', 0.0098234134357727231),\n",
        " ('RVUs_enc', 0.0095373467406657062),\n",
        " ('specialty_OB/GYN_x_mouse_enc', 0.0095099923395830753),\n",
        " ('specialty_PCP_x_RVUs_enc', 0.0090132069841486091),\n",
        " ('provider_level_Mid-level_x_key_enc', 0.0084993750147047461),\n",
        " ('keystrokes', 0.0082920167129272842),\n",
        " ('mousestrokes', 0.0076348149357390385),\n",
        " ('provider_level_MD_x_keystrokes', 0.0065571339982066724),\n",
        " ('specialty_Cardiology_x_RVUs_enc', 0.0064779360681984244),\n",
        " ('provider_level_Mid-level_x_keystrokes', 0.0063757019064466999),\n",
        " ('provider_level_Mid-level_x_mouse_min', 0.0063670486444159131),\n",
        " ('specialty_PCP_x_keystrokes', 0.0060961923253791813),\n",
        " ('tenure', 0.0054127280326859012),\n",
        " ('specialty_Surgery_x_mouse_min', 0.0052068801747944503),\n",
        " ('specialty_Cardiology_x_key_enc', 0.0050391254732747616),\n",
        " ('provider_level_MD_x_mousestrokes', 0.0047751100151866999),\n",
        " ('provider_level_Mid-level_x_key_min', 0.0044945656341246277),\n",
        " ('specialty_Cardiology_x_key_min', 0.0043931123638987499),\n",
        " ('specialty_Surgery_x_key_min', 0.0042314639918937672),\n",
        " ('specialty_OB/GYN_x_mouse_min', 0.0041845415554150819),\n",
        " ('specialty_PCP_x_tenure', 0.0041003372274698788),\n",
        " ('provider_level_Mid-level_x_mousestrokes', 0.0040969640718133363),\n",
        " ('specialty_PCP_x_mousestrokes', 0.0038633392864628417),\n",
        " ('provider_level_MD_x_tenure', 0.0035633712077200288),\n",
        " ('specialty_Surgery_x_mousestrokes', 0.0034436306629064212),\n",
        " ('specialty_OB/GYN_x_RVUs_enc', 0.0034225693087003785),\n",
        " ('specialty_OB/GYN_x_key_enc', 0.0033211447394077592),\n",
        " ('provider_level_Mid-level_x_RVUs_enc', 0.0032992434939998622),\n",
        " ('specialty_OB/GYN_x_key_min', 0.003101182711776436),\n",
        " ('specialty_Surgery_x_keystrokes', 0.0023894423066453262),\n",
        " ('specialty_Cardiology_x_mousestrokes', 0.0023860631709080207),\n",
        " ('specialty_Cardiology_x_keystrokes', 0.0021895368430536952),\n",
        " ('specialty_OB/GYN_x_tenure', 0.0021085989727800338),\n",
        " ('specialty_Surgery_x_RVUs_enc', 0.0019640459632218428),\n",
        " ('specialty_Cardiology_x_mouse_min', 0.0016426876959166061),\n",
        " ('specialty_OB/GYN_x_mousestrokes', 0.0013017024329494331),\n",
        " ('specialty_Cardiology_x_tenure', 0.0011977892516167688),\n",
        " ('specialty_OB/GYN_x_keystrokes', 0.00095008672278389767),\n",
        " ('specialty_Surgery_x_tenure', 0.00091854367897785557),\n",
        " ('provider_level_Mid-level_x_tenure', 0.0006475079993971929),\n",
        " ('provider_level_MD', 4.5790095980247303e-05),\n",
        " ('specialty_PCP', 2.5527158714745907e-05),\n",
        " ('specialty_OB/GYN', 1.3973010842496502e-05),\n",
        " ('provider_level_Mid-level', 3.7302859367497439e-06),\n",
        " ('specialty_Surgery', 0.0),\n",
        " ('specialty_Cardiology', 0.0)]"
       ]
      }
     ],
     "prompt_number": 32
    },
    {
     "cell_type": "code",
     "collapsed": false,
     "input": [
      "from lasagne import layers\n",
      "\n",
      "from lasagne.nonlinearities import softmax\n",
      "from lasagne.updates import nesterov_momentum\n",
      "from lasagne.nonlinearities import tanh\n",
      "from nolearn.lasagne import NeuralNet"
     ],
     "language": "python",
     "metadata": {},
     "outputs": [],
     "prompt_number": 13
    },
    {
     "cell_type": "code",
     "collapsed": false,
     "input": [
      "num_features=X.shape[1]\n",
      "np.shape(X)"
     ],
     "language": "python",
     "metadata": {},
     "outputs": [
      {
       "metadata": {},
       "output_type": "pyout",
       "prompt_number": 19,
       "text": [
        "(15938, 63)"
       ]
      }
     ],
     "prompt_number": 19
    },
    {
     "cell_type": "code",
     "collapsed": false,
     "input": [
      "np.shape(Y)"
     ],
     "language": "python",
     "metadata": {},
     "outputs": [
      {
       "metadata": {},
       "output_type": "pyout",
       "prompt_number": 25,
       "text": [
        "(15938,)"
       ]
      }
     ],
     "prompt_number": 25
    },
    {
     "cell_type": "code",
     "collapsed": false,
     "input": [
      "X = np.float32(X)\n",
      "Y = np.float32(Y)\n",
      "\n",
      "y = Y.reshape((15938, 1))"
     ],
     "language": "python",
     "metadata": {},
     "outputs": [],
     "prompt_number": 31
    },
    {
     "cell_type": "code",
     "collapsed": false,
     "input": [
      "layers0 = [('input', layers.InputLayer),\n",
      "           ('dense0', layers.DenseLayer),\n",
      "#            ('dropout1', layers.DropoutLayer),\n",
      "#            ('dense1', layers.DenseLayer),\n",
      "#            ('dropout2', layers.DropoutLayer),\n",
      "#            ('dense2', layers.DenseLayer),\n",
      "\n",
      "           ('output', layers.DenseLayer)]\n",
      "\n",
      "\n",
      "net0 = NeuralNet(layers=layers0,\n",
      "             input_shape=(None, num_features),\n",
      "             dense0_num_units=num_features,  # 750 -> close to .47\n",
      "#              dropout1_p=0.1,\n",
      "#              dense1_num_units=num_features,\n",
      "#              dropout2_p=0.5,\n",
      "#              dense2_num_units=num_features,\n",
      "             \n",
      "             output_num_units=1,\n",
      "             output_nonlinearity=tanh,\n",
      "             update_learning_rate=0.1,\n",
      "             update=nesterov_momentum,\n",
      "             update_momentum=0.9,\n",
      "             regression=True,\n",
      "             eval_size=0.2,\n",
      "             verbose=1,\n",
      "             max_epochs=50)"
     ],
     "language": "python",
     "metadata": {},
     "outputs": [],
     "prompt_number": 37
    },
    {
     "cell_type": "code",
     "collapsed": false,
     "input": [
      "np.log(y)"
     ],
     "language": "python",
     "metadata": {},
     "outputs": [
      {
       "metadata": {},
       "output_type": "pyout",
       "prompt_number": 42,
       "text": [
        "array([[ 2.40897012],\n",
        "       [ 2.44622302],\n",
        "       [ 2.46219563],\n",
        "       ..., \n",
        "       [-2.29641867],\n",
        "       [-2.3457725 ],\n",
        "       [-2.36522079]], dtype=float32)"
       ]
      }
     ],
     "prompt_number": 42
    },
    {
     "cell_type": "code",
     "collapsed": false,
     "input": [
      "net0.fit(X, y)"
     ],
     "language": "python",
     "metadata": {},
     "outputs": [
      {
       "output_type": "stream",
       "stream": "stdout",
       "text": [
        "\n",
        " Epoch  |  Train loss  |  Valid loss  |  Train / Val  |  Valid acc  |  Dur\n",
        "--------|--------------|--------------|---------------|-------------|-------\n",
        "     1  |  \u001b[94m 71.254798\u001b[0m  |  \u001b[32m 60.584815\u001b[0m  |     1.176116  |             |  0.1s"
       ]
      },
      {
       "output_type": "stream",
       "stream": "stdout",
       "text": [
        "\n",
        "     2  |  \u001b[94m 71.254798\u001b[0m  |  \u001b[32m 60.584815\u001b[0m  |     1.176116  |             |  0.1s"
       ]
      },
      {
       "output_type": "stream",
       "stream": "stdout",
       "text": [
        "\n",
        "     3  |  \u001b[94m 71.254798\u001b[0m  |  \u001b[32m 60.584815\u001b[0m  |     1.176116  |             |  0.1s"
       ]
      },
      {
       "output_type": "stream",
       "stream": "stdout",
       "text": [
        "\n",
        "     4  |  \u001b[94m 71.254798\u001b[0m  |  \u001b[32m 60.584815\u001b[0m  |     1.176116  |             |  0.1s"
       ]
      },
      {
       "output_type": "stream",
       "stream": "stdout",
       "text": [
        "\n",
        "     5  |  \u001b[94m 71.254798\u001b[0m  |  \u001b[32m 60.584815\u001b[0m  |     1.176116  |             |  0.1s"
       ]
      },
      {
       "output_type": "stream",
       "stream": "stdout",
       "text": [
        "\n",
        "     6  |  \u001b[94m 71.254798\u001b[0m  |  \u001b[32m 60.584815\u001b[0m  |     1.176116  |             |  0.1s"
       ]
      },
      {
       "output_type": "stream",
       "stream": "stdout",
       "text": [
        "\n",
        "     7  |  \u001b[94m 71.254798\u001b[0m  |  \u001b[32m 60.584815\u001b[0m  |     1.176116  |             |  0.1s"
       ]
      },
      {
       "output_type": "stream",
       "stream": "stdout",
       "text": [
        "\n",
        "     8  |  \u001b[94m 71.254798\u001b[0m  |  \u001b[32m 60.584815\u001b[0m  |     1.176116  |             |  0.1s"
       ]
      },
      {
       "output_type": "stream",
       "stream": "stdout",
       "text": [
        "\n",
        "     9  |  \u001b[94m 71.254798\u001b[0m  |  \u001b[32m 60.584815\u001b[0m  |     1.176116  |             |  0.1s"
       ]
      },
      {
       "output_type": "stream",
       "stream": "stdout",
       "text": [
        "\n",
        "    10  |  \u001b[94m 71.254798\u001b[0m  |  \u001b[32m 60.584815\u001b[0m  |     1.176116  |             |  0.1s"
       ]
      },
      {
       "output_type": "stream",
       "stream": "stdout",
       "text": [
        "\n",
        "    11  |  \u001b[94m 71.254798\u001b[0m  |  \u001b[32m 60.584815\u001b[0m  |     1.176116  |             |  0.1s"
       ]
      },
      {
       "output_type": "stream",
       "stream": "stdout",
       "text": [
        "\n",
        "    12  |  \u001b[94m 71.254798\u001b[0m  |  \u001b[32m 60.584815\u001b[0m  |     1.176116  |             |  0.1s"
       ]
      },
      {
       "output_type": "stream",
       "stream": "stdout",
       "text": [
        "\n",
        "    13  |  \u001b[94m 71.254798\u001b[0m  |  \u001b[32m 60.584815\u001b[0m  |     1.176116  |             |  0.1s"
       ]
      },
      {
       "output_type": "stream",
       "stream": "stdout",
       "text": [
        "\n",
        "    14  |  \u001b[94m 71.254798\u001b[0m  |  \u001b[32m 60.584815\u001b[0m  |     1.176116  |             |  0.1s"
       ]
      },
      {
       "output_type": "stream",
       "stream": "stdout",
       "text": [
        "\n",
        "    15  |  \u001b[94m 71.254798\u001b[0m  |  \u001b[32m 60.584815\u001b[0m  |     1.176116  |             |  0.1s"
       ]
      },
      {
       "output_type": "stream",
       "stream": "stdout",
       "text": [
        "\n",
        "    16  |  \u001b[94m 71.254798\u001b[0m  |  \u001b[32m 60.584815\u001b[0m  |     1.176116  |             |  0.1s"
       ]
      },
      {
       "output_type": "stream",
       "stream": "stdout",
       "text": [
        "\n",
        "    17  |  \u001b[94m 71.254798\u001b[0m  |  \u001b[32m 60.584815\u001b[0m  |     1.176116  |             |  0.1s"
       ]
      },
      {
       "output_type": "stream",
       "stream": "stdout",
       "text": [
        "\n",
        "    18  |  \u001b[94m 71.254798\u001b[0m  |  \u001b[32m 60.584815\u001b[0m  |     1.176116  |             |  0.1s"
       ]
      },
      {
       "output_type": "stream",
       "stream": "stdout",
       "text": [
        "\n",
        "    19  |  \u001b[94m 71.254798\u001b[0m  |  \u001b[32m 60.584815\u001b[0m  |     1.176116  |             |  0.1s"
       ]
      },
      {
       "output_type": "stream",
       "stream": "stdout",
       "text": [
        "\n",
        "    20  |  \u001b[94m 71.254798\u001b[0m  |  \u001b[32m 60.584815\u001b[0m  |     1.176116  |             |  0.1s"
       ]
      },
      {
       "output_type": "stream",
       "stream": "stdout",
       "text": [
        "\n",
        "    21  |  \u001b[94m 71.254798\u001b[0m  |  \u001b[32m 60.584815\u001b[0m  |     1.176116  |             |  0.1s"
       ]
      },
      {
       "output_type": "stream",
       "stream": "stdout",
       "text": [
        "\n",
        "    22  |  \u001b[94m 71.254798\u001b[0m  |  \u001b[32m 60.584815\u001b[0m  |     1.176116  |             |  0.1s"
       ]
      },
      {
       "output_type": "stream",
       "stream": "stdout",
       "text": [
        "\n",
        "    23  |  \u001b[94m 71.254798\u001b[0m  |  \u001b[32m 60.584815\u001b[0m  |     1.176116  |             |  0.1s"
       ]
      },
      {
       "output_type": "stream",
       "stream": "stdout",
       "text": [
        "\n",
        "    24  |  \u001b[94m 71.254798\u001b[0m  |  \u001b[32m 60.584815\u001b[0m  |     1.176116  |             |  0.1s"
       ]
      },
      {
       "output_type": "stream",
       "stream": "stdout",
       "text": [
        "\n",
        "    25  |  \u001b[94m 71.254798\u001b[0m  |  \u001b[32m 60.584815\u001b[0m  |     1.176116  |             |  0.1s"
       ]
      },
      {
       "output_type": "stream",
       "stream": "stdout",
       "text": [
        "\n",
        "    26  |  \u001b[94m 71.254798\u001b[0m  |  \u001b[32m 60.584815\u001b[0m  |     1.176116  |             |  0.1s"
       ]
      },
      {
       "output_type": "stream",
       "stream": "stdout",
       "text": [
        "\n",
        "    27  |  \u001b[94m 71.254798\u001b[0m  |  \u001b[32m 60.584815\u001b[0m  |     1.176116  |             |  0.1s"
       ]
      },
      {
       "output_type": "stream",
       "stream": "stdout",
       "text": [
        "\n",
        "    28  |  \u001b[94m 71.254798\u001b[0m  |  \u001b[32m 60.584815\u001b[0m  |     1.176116  |             |  0.1s"
       ]
      },
      {
       "output_type": "stream",
       "stream": "stdout",
       "text": [
        "\n",
        "    29  |  \u001b[94m 71.254798\u001b[0m  |  \u001b[32m 60.584815\u001b[0m  |     1.176116  |             |  0.1s"
       ]
      },
      {
       "output_type": "stream",
       "stream": "stdout",
       "text": [
        "\n",
        "    30  |  \u001b[94m 71.254798\u001b[0m  |  \u001b[32m 60.584815\u001b[0m  |     1.176116  |             |  0.1s"
       ]
      },
      {
       "output_type": "stream",
       "stream": "stdout",
       "text": [
        "\n",
        "    31  |  \u001b[94m 71.254798\u001b[0m  |  \u001b[32m 60.584815\u001b[0m  |     1.176116  |             |  0.1s"
       ]
      },
      {
       "output_type": "stream",
       "stream": "stdout",
       "text": [
        "\n",
        "    32  |  \u001b[94m 71.254798\u001b[0m  |  \u001b[32m 60.584815\u001b[0m  |     1.176116  |             |  0.1s"
       ]
      },
      {
       "output_type": "stream",
       "stream": "stdout",
       "text": [
        "\n",
        "    33  |  \u001b[94m 71.254798\u001b[0m  |  \u001b[32m 60.584815\u001b[0m  |     1.176116  |             |  0.1s"
       ]
      },
      {
       "output_type": "stream",
       "stream": "stdout",
       "text": [
        "\n",
        "    34  |  \u001b[94m 71.254798\u001b[0m  |  \u001b[32m 60.584815\u001b[0m  |     1.176116  |             |  0.1s"
       ]
      },
      {
       "output_type": "stream",
       "stream": "stdout",
       "text": [
        "\n",
        "    35  |  \u001b[94m 71.254798\u001b[0m  |  \u001b[32m 60.584815\u001b[0m  |     1.176116  |             |  0.1s"
       ]
      },
      {
       "output_type": "stream",
       "stream": "stdout",
       "text": [
        "\n",
        "    36  |  \u001b[94m 71.254798\u001b[0m  |  \u001b[32m 60.584815\u001b[0m  |     1.176116  |             |  0.1s"
       ]
      },
      {
       "output_type": "stream",
       "stream": "stdout",
       "text": [
        "\n",
        "    37  |  \u001b[94m 71.254798\u001b[0m  |  \u001b[32m 60.584815\u001b[0m  |     1.176116  |             |  0.1s"
       ]
      },
      {
       "output_type": "stream",
       "stream": "stdout",
       "text": [
        "\n",
        "    38  |  \u001b[94m 71.254798\u001b[0m  |  \u001b[32m 60.584815\u001b[0m  |     1.176116  |             |  0.1s"
       ]
      },
      {
       "output_type": "stream",
       "stream": "stdout",
       "text": [
        "\n",
        "    39  |  \u001b[94m 71.254798\u001b[0m  |  \u001b[32m 60.584815\u001b[0m  |     1.176116  |             |  0.1s"
       ]
      },
      {
       "output_type": "stream",
       "stream": "stdout",
       "text": [
        "\n",
        "    40  |  \u001b[94m 71.254798\u001b[0m  |  \u001b[32m 60.584815\u001b[0m  |     1.176116  |             |  0.1s"
       ]
      },
      {
       "output_type": "stream",
       "stream": "stdout",
       "text": [
        "\n",
        "    41  |  \u001b[94m 71.254798\u001b[0m  |  \u001b[32m 60.584815\u001b[0m  |     1.176116  |             |  0.1s"
       ]
      },
      {
       "output_type": "stream",
       "stream": "stdout",
       "text": [
        "\n",
        "    42  |  \u001b[94m 71.254798\u001b[0m  |  \u001b[32m 60.584815\u001b[0m  |     1.176116  |             |  0.1s"
       ]
      },
      {
       "output_type": "stream",
       "stream": "stdout",
       "text": [
        "\n",
        "    43  |  \u001b[94m 71.254798\u001b[0m  |  \u001b[32m 60.584815\u001b[0m  |     1.176116  |             |  0.1s"
       ]
      },
      {
       "output_type": "stream",
       "stream": "stdout",
       "text": [
        "\n",
        "    44  |  \u001b[94m 71.254798\u001b[0m  |  \u001b[32m 60.584815\u001b[0m  |     1.176116  |             |  0.1s"
       ]
      },
      {
       "output_type": "stream",
       "stream": "stdout",
       "text": [
        "\n",
        "    45  |  \u001b[94m 71.254798\u001b[0m  |  \u001b[32m 60.584815\u001b[0m  |     1.176116  |             |  0.1s"
       ]
      },
      {
       "output_type": "stream",
       "stream": "stdout",
       "text": [
        "\n",
        "    46  |  \u001b[94m 71.254798\u001b[0m  |  \u001b[32m 60.584815\u001b[0m  |     1.176116  |             |  0.1s"
       ]
      },
      {
       "output_type": "stream",
       "stream": "stdout",
       "text": [
        "\n",
        "    47  |  \u001b[94m 71.254798\u001b[0m  |  \u001b[32m 60.584815\u001b[0m  |     1.176116  |             |  0.1s"
       ]
      },
      {
       "output_type": "stream",
       "stream": "stdout",
       "text": [
        "\n",
        "    48  |  \u001b[94m 71.254798\u001b[0m  |  \u001b[32m 60.584815\u001b[0m  |     1.176116  |             |  0.1s"
       ]
      },
      {
       "output_type": "stream",
       "stream": "stdout",
       "text": [
        "\n",
        "    49  |  \u001b[94m 71.254798\u001b[0m  |  \u001b[32m 60.584815\u001b[0m  |     1.176116  |             |  0.1s"
       ]
      },
      {
       "output_type": "stream",
       "stream": "stdout",
       "text": [
        "\n",
        "    50  |  \u001b[94m 71.254798\u001b[0m  |  \u001b[32m 60.584815\u001b[0m  |     1.176116  |             |  0.1s"
       ]
      },
      {
       "output_type": "stream",
       "stream": "stdout",
       "text": [
        "\n"
       ]
      },
      {
       "metadata": {},
       "output_type": "pyout",
       "prompt_number": 44,
       "text": [
        "NeuralNet(X_tensor_type=<function matrix at 0x7f23165aeae8>,\n",
        "     batch_iterator_test=<nolearn.lasagne.BatchIterator object at 0x7f2315fffeb8>,\n",
        "     batch_iterator_train=<nolearn.lasagne.BatchIterator object at 0x7f2315fffe80>,\n",
        "     dense0_num_units=63, eval_size=0.2, input_shape=(None, 63),\n",
        "     layers=[('input', <class 'lasagne.layers.input.InputLayer'>), ('dense0', <class 'lasagne.layers.dense.DenseLayer'>), ('output', <class 'lasagne.layers.dense.DenseLayer'>)],\n",
        "     loss=None, max_epochs=50, more_params={},\n",
        "     objective=<class 'lasagne.objectives.Objective'>,\n",
        "     objective_loss_function=<function mse at 0x7f2315ffba60>,\n",
        "     on_epoch_finished=(), on_training_finished=(),\n",
        "     output_nonlinearity=<theano.tensor.elemwise.Elemwise object at 0x7f23165c3a90>,\n",
        "     output_num_units=1, regression=True,\n",
        "     update=<function nesterov_momentum at 0x7f2315ffbf28>,\n",
        "     update_learning_rate=0.1, update_momentum=0.9,\n",
        "     use_label_encoder=False, verbose=1,\n",
        "     y_tensor_type=TensorType(float32, matrix))"
       ]
      }
     ],
     "prompt_number": 44
    }
   ],
   "metadata": {}
  }
 ]
}