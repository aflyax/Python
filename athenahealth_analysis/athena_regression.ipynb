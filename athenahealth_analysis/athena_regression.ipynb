{
 "cells": [
  {
   "cell_type": "code",
   "execution_count": 1,
   "metadata": {
    "collapsed": false
   },
   "outputs": [],
   "source": [
    "from matplotlib import pylab\n",
    "from matplotlib import pyplot as plt\n",
    "%matplotlib inline\n",
    "\n",
    "import seaborn as sns\n",
    "sns.set(context='poster', style='dark')\n",
    "\n",
    "pylab.rcParams['figure.figsize'] = (24.0, 18.0)\n",
    "\n",
    "import numpy as np\n",
    "from numpy.random import rand\n",
    "import pandas as pd\n",
    "\n",
    "from sklearn import cross_validation\n",
    "from sklearn.ensemble import GradientBoostingRegressor\n",
    "from sklearn.ensemble import RandomForestRegressor\n",
    "from sklearn.metrics import mean_squared_error\n",
    "from sklearn.metrics import explained_variance_score\n",
    "import time"
   ]
  },
  {
   "cell_type": "code",
   "execution_count": 2,
   "metadata": {
    "collapsed": false
   },
   "outputs": [],
   "source": [
    "def try_model(X, Y, model):\n",
    "    X_train, X_test, y_train, y_test = cross_validation.train_test_split(X, Y, test_size=0.2, random_state=10)\n",
    "\n",
    "    print(\"start fitting... \", time.ctime().split()[3])\n",
    "    model.fit(X_train, y_train)\n",
    "    print(\"done fitting... \", time.ctime().split()[3])\n",
    "\n",
    "    mse = mean_squared_error(y_test, model.predict(X_test))\n",
    "    print('mean squared error: ', mse)\n",
    "\n",
    "    print(\"explained variance score: \", explained_variance_score(np.abs(y_test), np.abs(model.predict(X_test))))"
   ]
  },
  {
   "cell_type": "code",
   "execution_count": 2,
   "metadata": {
    "collapsed": false
   },
   "outputs": [
    {
     "name": "stdout",
     "output_type": "stream",
     "text": [
      "(15998, 25)\n"
     ]
    },
    {
     "data": {
      "text/html": [
       "<div style=\"max-height:1000px;max-width:1500px;overflow:auto;\">\n",
       "<table border=\"1\" class=\"dataframe\">\n",
       "  <thead>\n",
       "    <tr style=\"text-align: right;\">\n",
       "      <th></th>\n",
       "      <th>obs_month</th>\n",
       "      <th>specialty</th>\n",
       "      <th>provider_level</th>\n",
       "      <th>grand_mee</th>\n",
       "      <th>intake_emr_enc</th>\n",
       "      <th>exam_emr_enc</th>\n",
       "      <th>postvisit_emr_enc</th>\n",
       "      <th>signoff_emr_enc</th>\n",
       "      <th>key_min</th>\n",
       "      <th>mouse_min</th>\n",
       "      <th>...</th>\n",
       "      <th>intake_emr</th>\n",
       "      <th>postvisit_emr</th>\n",
       "      <th>signoff_emr</th>\n",
       "      <th>tenure</th>\n",
       "      <th>practice_id</th>\n",
       "      <th>provider_id</th>\n",
       "      <th>keystrokes</th>\n",
       "      <th>mousestrokes</th>\n",
       "      <th>RVUs</th>\n",
       "      <th>total_emr</th>\n",
       "    </tr>\n",
       "  </thead>\n",
       "  <tbody>\n",
       "    <tr>\n",
       "      <th>0</th>\n",
       "      <td> 1</td>\n",
       "      <td> PCP</td>\n",
       "      <td> MD</td>\n",
       "      <td> 11.122500</td>\n",
       "      <td> 0.158102</td>\n",
       "      <td>  8.874769</td>\n",
       "      <td> 1.702407</td>\n",
       "      <td> 0.387222</td>\n",
       "      <td>  61.223496</td>\n",
       "      <td> 7.693364</td>\n",
       "      <td>...</td>\n",
       "      <td> 34.15</td>\n",
       "      <td>  367.72</td>\n",
       "      <td> 83.64</td>\n",
       "      <td> 57</td>\n",
       "      <td> 1</td>\n",
       "      <td> 1</td>\n",
       "      <td> 147087</td>\n",
       "      <td> 18483</td>\n",
       "      <td> 512.68</td>\n",
       "      <td> 2402.46</td>\n",
       "    </tr>\n",
       "    <tr>\n",
       "      <th>1</th>\n",
       "      <td> 2</td>\n",
       "      <td> PCP</td>\n",
       "      <td> MD</td>\n",
       "      <td> 11.544661</td>\n",
       "      <td> 0.351873</td>\n",
       "      <td>  8.884422</td>\n",
       "      <td> 1.986773</td>\n",
       "      <td> 0.321594</td>\n",
       "      <td>  65.139369</td>\n",
       "      <td> 7.520766</td>\n",
       "      <td>...</td>\n",
       "      <td> 88.32</td>\n",
       "      <td>  498.68</td>\n",
       "      <td> 80.72</td>\n",
       "      <td> 57</td>\n",
       "      <td> 1</td>\n",
       "      <td> 1</td>\n",
       "      <td> 188755</td>\n",
       "      <td> 21793</td>\n",
       "      <td> 560.39</td>\n",
       "      <td> 2897.71</td>\n",
       "    </tr>\n",
       "    <tr>\n",
       "      <th>2</th>\n",
       "      <td> 3</td>\n",
       "      <td> PCP</td>\n",
       "      <td> MD</td>\n",
       "      <td> 11.730539</td>\n",
       "      <td> 0.132963</td>\n",
       "      <td>  9.532155</td>\n",
       "      <td> 1.860438</td>\n",
       "      <td> 0.204983</td>\n",
       "      <td>  65.474444</td>\n",
       "      <td> 7.550008</td>\n",
       "      <td>...</td>\n",
       "      <td> 39.49</td>\n",
       "      <td>  552.55</td>\n",
       "      <td> 60.88</td>\n",
       "      <td> 57</td>\n",
       "      <td> 1</td>\n",
       "      <td> 1</td>\n",
       "      <td> 228111</td>\n",
       "      <td> 26304</td>\n",
       "      <td> 574.39</td>\n",
       "      <td> 3483.97</td>\n",
       "    </tr>\n",
       "    <tr>\n",
       "      <th>3</th>\n",
       "      <td> 4</td>\n",
       "      <td> PCP</td>\n",
       "      <td> MD</td>\n",
       "      <td> 11.111716</td>\n",
       "      <td> 0.084067</td>\n",
       "      <td>  8.980187</td>\n",
       "      <td> 1.866418</td>\n",
       "      <td> 0.181045</td>\n",
       "      <td>  62.074790</td>\n",
       "      <td> 7.396724</td>\n",
       "      <td>...</td>\n",
       "      <td> 22.53</td>\n",
       "      <td>  500.20</td>\n",
       "      <td> 48.52</td>\n",
       "      <td> 57</td>\n",
       "      <td> 1</td>\n",
       "      <td> 1</td>\n",
       "      <td> 184855</td>\n",
       "      <td> 22027</td>\n",
       "      <td> 617.67</td>\n",
       "      <td> 2977.94</td>\n",
       "    </tr>\n",
       "    <tr>\n",
       "      <th>4</th>\n",
       "      <td> 5</td>\n",
       "      <td> PCP</td>\n",
       "      <td> MD</td>\n",
       "      <td> 12.033948</td>\n",
       "      <td> 0.081255</td>\n",
       "      <td> 10.027048</td>\n",
       "      <td> 1.707196</td>\n",
       "      <td> 0.218450</td>\n",
       "      <td>  63.664602</td>\n",
       "      <td> 7.725071</td>\n",
       "      <td>...</td>\n",
       "      <td> 22.02</td>\n",
       "      <td>  462.65</td>\n",
       "      <td> 59.20</td>\n",
       "      <td> 57</td>\n",
       "      <td> 1</td>\n",
       "      <td> 1</td>\n",
       "      <td> 207623</td>\n",
       "      <td> 25193</td>\n",
       "      <td> 675.09</td>\n",
       "      <td> 3261.20</td>\n",
       "    </tr>\n",
       "    <tr>\n",
       "      <th>5</th>\n",
       "      <td> 6</td>\n",
       "      <td> PCP</td>\n",
       "      <td> MD</td>\n",
       "      <td> 10.320464</td>\n",
       "      <td> 0.101750</td>\n",
       "      <td>  8.400036</td>\n",
       "      <td> 1.567750</td>\n",
       "      <td> 0.250929</td>\n",
       "      <td>  67.376537</td>\n",
       "      <td> 7.602786</td>\n",
       "      <td>...</td>\n",
       "      <td> 28.49</td>\n",
       "      <td>  438.97</td>\n",
       "      <td> 70.26</td>\n",
       "      <td> 57</td>\n",
       "      <td> 1</td>\n",
       "      <td> 1</td>\n",
       "      <td> 194700</td>\n",
       "      <td> 21970</td>\n",
       "      <td> 699.72</td>\n",
       "      <td> 2889.73</td>\n",
       "    </tr>\n",
       "    <tr>\n",
       "      <th>6</th>\n",
       "      <td> 1</td>\n",
       "      <td> PCP</td>\n",
       "      <td> MD</td>\n",
       "      <td> 13.838904</td>\n",
       "      <td> 0.000000</td>\n",
       "      <td>  9.295000</td>\n",
       "      <td> 4.459589</td>\n",
       "      <td> 0.084315</td>\n",
       "      <td> 103.261601</td>\n",
       "      <td> 5.133929</td>\n",
       "      <td>...</td>\n",
       "      <td>  0.00</td>\n",
       "      <td>  651.10</td>\n",
       "      <td> 12.31</td>\n",
       "      <td> 57</td>\n",
       "      <td> 1</td>\n",
       "      <td> 2</td>\n",
       "      <td> 208638</td>\n",
       "      <td> 10373</td>\n",
       "      <td> 322.52</td>\n",
       "      <td> 2020.48</td>\n",
       "    </tr>\n",
       "    <tr>\n",
       "      <th>7</th>\n",
       "      <td> 2</td>\n",
       "      <td> PCP</td>\n",
       "      <td> MD</td>\n",
       "      <td> 15.011773</td>\n",
       "      <td> 0.000000</td>\n",
       "      <td> 10.296667</td>\n",
       "      <td> 4.502695</td>\n",
       "      <td> 0.212411</td>\n",
       "      <td> 100.102048</td>\n",
       "      <td> 5.297497</td>\n",
       "      <td>...</td>\n",
       "      <td>  0.00</td>\n",
       "      <td>  634.88</td>\n",
       "      <td> 29.95</td>\n",
       "      <td> 57</td>\n",
       "      <td> 1</td>\n",
       "      <td> 2</td>\n",
       "      <td> 211882</td>\n",
       "      <td> 11213</td>\n",
       "      <td> 346.73</td>\n",
       "      <td> 2116.66</td>\n",
       "    </tr>\n",
       "    <tr>\n",
       "      <th>8</th>\n",
       "      <td> 3</td>\n",
       "      <td> PCP</td>\n",
       "      <td> MD</td>\n",
       "      <td> 16.074286</td>\n",
       "      <td> 0.000000</td>\n",
       "      <td> 11.298067</td>\n",
       "      <td> 4.651429</td>\n",
       "      <td> 0.124790</td>\n",
       "      <td>  99.535246</td>\n",
       "      <td> 5.501244</td>\n",
       "      <td>...</td>\n",
       "      <td>  0.00</td>\n",
       "      <td>  553.52</td>\n",
       "      <td> 14.85</td>\n",
       "      <td> 57</td>\n",
       "      <td> 1</td>\n",
       "      <td> 2</td>\n",
       "      <td> 190395</td>\n",
       "      <td> 10523</td>\n",
       "      <td> 214.47</td>\n",
       "      <td> 1912.84</td>\n",
       "    </tr>\n",
       "    <tr>\n",
       "      <th>9</th>\n",
       "      <td> 4</td>\n",
       "      <td> PCP</td>\n",
       "      <td> MD</td>\n",
       "      <td> 15.386704</td>\n",
       "      <td> 0.000000</td>\n",
       "      <td>  9.639888</td>\n",
       "      <td> 5.705363</td>\n",
       "      <td> 0.041453</td>\n",
       "      <td> 105.356871</td>\n",
       "      <td> 5.058056</td>\n",
       "      <td>...</td>\n",
       "      <td>  0.00</td>\n",
       "      <td> 1021.26</td>\n",
       "      <td>  7.42</td>\n",
       "      <td> 57</td>\n",
       "      <td> 1</td>\n",
       "      <td> 2</td>\n",
       "      <td> 290176</td>\n",
       "      <td> 13931</td>\n",
       "      <td> 305.62</td>\n",
       "      <td> 2754.22</td>\n",
       "    </tr>\n",
       "  </tbody>\n",
       "</table>\n",
       "<p>10 rows × 25 columns</p>\n",
       "</div>"
      ],
      "text/plain": [
       "   obs_month specialty provider_level  grand_mee  intake_emr_enc  \\\n",
       "0          1       PCP             MD  11.122500        0.158102   \n",
       "1          2       PCP             MD  11.544661        0.351873   \n",
       "2          3       PCP             MD  11.730539        0.132963   \n",
       "3          4       PCP             MD  11.111716        0.084067   \n",
       "4          5       PCP             MD  12.033948        0.081255   \n",
       "5          6       PCP             MD  10.320464        0.101750   \n",
       "6          1       PCP             MD  13.838904        0.000000   \n",
       "7          2       PCP             MD  15.011773        0.000000   \n",
       "8          3       PCP             MD  16.074286        0.000000   \n",
       "9          4       PCP             MD  15.386704        0.000000   \n",
       "\n",
       "   exam_emr_enc  postvisit_emr_enc  signoff_emr_enc     key_min  mouse_min  \\\n",
       "0      8.874769           1.702407         0.387222   61.223496   7.693364   \n",
       "1      8.884422           1.986773         0.321594   65.139369   7.520766   \n",
       "2      9.532155           1.860438         0.204983   65.474444   7.550008   \n",
       "3      8.980187           1.866418         0.181045   62.074790   7.396724   \n",
       "4     10.027048           1.707196         0.218450   63.664602   7.725071   \n",
       "5      8.400036           1.567750         0.250929   67.376537   7.602786   \n",
       "6      9.295000           4.459589         0.084315  103.261601   5.133929   \n",
       "7     10.296667           4.502695         0.212411  100.102048   5.297497   \n",
       "8     11.298067           4.651429         0.124790   99.535246   5.501244   \n",
       "9      9.639888           5.705363         0.041453  105.356871   5.058056   \n",
       "\n",
       "     ...      intake_emr  postvisit_emr  signoff_emr  tenure  practice_id  \\\n",
       "0    ...           34.15         367.72        83.64      57            1   \n",
       "1    ...           88.32         498.68        80.72      57            1   \n",
       "2    ...           39.49         552.55        60.88      57            1   \n",
       "3    ...           22.53         500.20        48.52      57            1   \n",
       "4    ...           22.02         462.65        59.20      57            1   \n",
       "5    ...           28.49         438.97        70.26      57            1   \n",
       "6    ...            0.00         651.10        12.31      57            1   \n",
       "7    ...            0.00         634.88        29.95      57            1   \n",
       "8    ...            0.00         553.52        14.85      57            1   \n",
       "9    ...            0.00        1021.26         7.42      57            1   \n",
       "\n",
       "   provider_id  keystrokes  mousestrokes    RVUs  total_emr  \n",
       "0            1      147087         18483  512.68    2402.46  \n",
       "1            1      188755         21793  560.39    2897.71  \n",
       "2            1      228111         26304  574.39    3483.97  \n",
       "3            1      184855         22027  617.67    2977.94  \n",
       "4            1      207623         25193  675.09    3261.20  \n",
       "5            1      194700         21970  699.72    2889.73  \n",
       "6            2      208638         10373  322.52    2020.48  \n",
       "7            2      211882         11213  346.73    2116.66  \n",
       "8            2      190395         10523  214.47    1912.84  \n",
       "9            2      290176         13931  305.62    2754.22  \n",
       "\n",
       "[10 rows x 25 columns]"
      ]
     },
     "execution_count": 2,
     "metadata": {},
     "output_type": "execute_result"
    }
   ],
   "source": [
    "#importing and munging the data\n",
    "\n",
    "#importing providers_info\n",
    "providers_info = pd.read_csv('providers.csv')\n",
    "providers_info = providers_info[0:2884]                          # removing NA values at the end\n",
    "providers_info.columns = ['practice_id', 'provider_id', 'specialty', 'provider_level', 'tenure']\n",
    "\n",
    "key_id = providers_info.practice_id + providers_info.provider_id / 100\n",
    "\n",
    "# print key_id\n",
    "\n",
    "providers_info['key_id'] = key_id\n",
    "providers_info = providers_info[['key_id', 'practice_id', 'provider_id', 'specialty', 'provider_level', 'tenure']]\n",
    "\n",
    "# providers_info.head(50)\n",
    "\n",
    "# importing work_data\n",
    "\n",
    "work_data = pd.read_csv('work.csv')\n",
    "work_data = work_data[0:29974]\n",
    "work_data.columns = ['practice_id', 'provider_id', 'obs_month', 'variable', 'value']\n",
    "\n",
    "key_id = work_data.practice_id + work_data.provider_id / 100\n",
    "\n",
    "work_data['key_id'] = key_id\n",
    "\n",
    "work_data_nested = work_data.set_index(['practice_id', 'provider_id', 'obs_month', 'variable', 'key_id']).unstack('variable')\n",
    "work_data = pd.DataFrame(work_data_nested.reset_index())\n",
    "work_data = work_data.rename(columns = {'value': 'work_vals'})\n",
    "\n",
    "# work_data.head()\n",
    "\n",
    "#importing emr_touches and adding to global_df\n",
    "\n",
    "emr_touches = pd.read_csv('emr_touches.csv')\n",
    "emr_touches = emr_touches[0:14987]\n",
    "emr_touches.columns = ['practice_id', 'provider_id', 'obs_month', 'keystrokes', 'mousestrokes']\n",
    "\n",
    "# emr_touches.tail(10)\n",
    "\n",
    "global_df = emr_touches\n",
    "global_df['encounters'] = work_data.work_vals.Encounters\n",
    "global_df['RVUs'] = work_data.work_vals.RVUs\n",
    "\n",
    "# global_df.tail(10)\n",
    "\n",
    "#importing emr_time\n",
    "\n",
    "emr_time = pd.read_csv('emr_time.csv')\n",
    "emr_time = emr_time[0:59948]\n",
    "\n",
    "emr_time.columns = ['practice_id', 'provider_id', 'obs_month', 'variable', 'value']\n",
    "emr_time_nested = emr_time.set_index(['practice_id', 'provider_id', 'obs_month', 'variable']).unstack('variable')\n",
    "\n",
    "emr_time = pd.DataFrame(emr_time_nested.reset_index())\n",
    "emr_time = emr_time.rename(columns = {'value': 'EMR_time'})\n",
    "\n",
    "global_df['exam_emr'] = emr_time.EMR_time['Time Exam']\n",
    "global_df['intake_emr'] = emr_time.EMR_time['Time Intake']\n",
    "global_df['postvisit_emr'] = emr_time.EMR_time['Time Postvisit']\n",
    "global_df['signoff_emr'] = emr_time.EMR_time['Time Signoff']\n",
    "global_df['key_id'] = global_df.practice_id + global_df.provider_id / 100\n",
    "\n",
    "#final merge\n",
    "temp_df = global_df\n",
    "total_df = pd.merge(temp_df[['key_id','obs_month', 'keystrokes', 'mousestrokes', 'encounters', 'RVUs', 'exam_emr', 'intake_emr',\\\n",
    "                             'postvisit_emr', 'signoff_emr']], providers_info, on = 'key_id')\n",
    "\n",
    "#calculating stats\n",
    "\n",
    "total_df['total_emr'] = total_df.exam_emr + total_df.intake_emr + total_df.postvisit_emr + total_df.signoff_emr\n",
    "total_df['encounters'] = total_df.encounters.replace(0, np.nan) #replacing encounters = 0 with nan\n",
    "total_df['grand_mee'] = total_df.total_emr / total_df.encounters # mee = Mean (total_Emr_time / Encounter)\n",
    "total_df['exam_emr_enc'] = total_df.exam_emr / total_df.encounters\n",
    "total_df['intake_emr_enc'] = total_df.intake_emr / total_df.encounters\n",
    "total_df['postvisit_emr_enc'] = total_df.postvisit_emr / total_df.encounters\n",
    "total_df['signoff_emr_enc'] = total_df.signoff_emr / total_df.encounters\n",
    "\n",
    "total_df['RVUs_enc'] = total_df.RVUs / total_df.encounters\n",
    "\n",
    "total_df['key_min'] = total_df.keystrokes / total_df.total_emr\n",
    "total_df['mouse_min'] = total_df.mousestrokes / total_df.total_emr\n",
    "\n",
    "total_df['key_enc'] = total_df.keystrokes / total_df.encounters\n",
    "total_df['mouse_enc'] = total_df.mousestrokes / total_df.encounters\n",
    "\n",
    "total_df = total_df[['key_id', 'obs_month', 'specialty', 'provider_level', 'grand_mee', 'intake_emr_enc', 'exam_emr_enc', \\\n",
    "                     'postvisit_emr_enc', 'signoff_emr_enc',\\\n",
    "                     'key_min', 'mouse_min', 'key_enc', 'mouse_enc',\\\n",
    "                     'encounters', 'RVUs_enc', 'exam_emr', 'intake_emr', 'postvisit_emr', 'signoff_emr', \\\n",
    "                     'tenure', 'practice_id', 'provider_id', 'keystrokes', 'mousestrokes', 'RVUs', 'total_emr']]\n",
    "total_df.drop('key_id', 1, inplace=True)\n",
    "print(total_df.shape)\n",
    "total_df.head(10)\n",
    "# total_df.describe()"
   ]
  },
  {
   "cell_type": "code",
   "execution_count": 4,
   "metadata": {
    "collapsed": false
   },
   "outputs": [
    {
     "data": {
      "text/html": [
       "<div style=\"max-height:1000px;max-width:1500px;overflow:auto;\">\n",
       "<table border=\"1\" class=\"dataframe\">\n",
       "  <thead>\n",
       "    <tr style=\"text-align: right;\">\n",
       "      <th></th>\n",
       "      <th>obs_month</th>\n",
       "      <th>specialty</th>\n",
       "      <th>provider_level</th>\n",
       "      <th>grand_mee</th>\n",
       "      <th>intake_emr_enc</th>\n",
       "      <th>exam_emr_enc</th>\n",
       "      <th>postvisit_emr_enc</th>\n",
       "      <th>signoff_emr_enc</th>\n",
       "      <th>key_min</th>\n",
       "      <th>mouse_min</th>\n",
       "      <th>...</th>\n",
       "      <th>intake_emr</th>\n",
       "      <th>postvisit_emr</th>\n",
       "      <th>signoff_emr</th>\n",
       "      <th>tenure</th>\n",
       "      <th>practice_id</th>\n",
       "      <th>provider_id</th>\n",
       "      <th>keystrokes</th>\n",
       "      <th>mousestrokes</th>\n",
       "      <th>RVUs</th>\n",
       "      <th>total_emr</th>\n",
       "    </tr>\n",
       "  </thead>\n",
       "  <tbody>\n",
       "    <tr>\n",
       "      <th>15993</th>\n",
       "      <td> 2</td>\n",
       "      <td> Surgery</td>\n",
       "      <td> MD</td>\n",
       "      <td> 0.229045</td>\n",
       "      <td> 0.002611</td>\n",
       "      <td> 0.020828</td>\n",
       "      <td> 0.205605</td>\n",
       "      <td> 0</td>\n",
       "      <td> 7.703003</td>\n",
       "      <td> 36.985539</td>\n",
       "      <td>...</td>\n",
       "      <td> 0.41</td>\n",
       "      <td> 32.28</td>\n",
       "      <td> 0</td>\n",
       "      <td> 30</td>\n",
       "      <td> 199</td>\n",
       "      <td> 2</td>\n",
       "      <td> 277</td>\n",
       "      <td> 1330</td>\n",
       "      <td> 1038.70</td>\n",
       "      <td> 35.96</td>\n",
       "    </tr>\n",
       "    <tr>\n",
       "      <th>15994</th>\n",
       "      <td> 5</td>\n",
       "      <td> Surgery</td>\n",
       "      <td> MD</td>\n",
       "      <td> 0.223832</td>\n",
       "      <td> 0.000000</td>\n",
       "      <td> 0.000000</td>\n",
       "      <td> 0.223832</td>\n",
       "      <td> 0</td>\n",
       "      <td> 0.428036</td>\n",
       "      <td> 35.393258</td>\n",
       "      <td>...</td>\n",
       "      <td> 0.00</td>\n",
       "      <td> 37.38</td>\n",
       "      <td> 0</td>\n",
       "      <td> 30</td>\n",
       "      <td> 199</td>\n",
       "      <td> 2</td>\n",
       "      <td>  16</td>\n",
       "      <td> 1323</td>\n",
       "      <td> 1022.80</td>\n",
       "      <td> 37.38</td>\n",
       "    </tr>\n",
       "    <tr>\n",
       "      <th>15995</th>\n",
       "      <td> 4</td>\n",
       "      <td> Surgery</td>\n",
       "      <td> MD</td>\n",
       "      <td> 0.100619</td>\n",
       "      <td> 0.000000</td>\n",
       "      <td> 0.000000</td>\n",
       "      <td> 0.100619</td>\n",
       "      <td> 0</td>\n",
       "      <td> 4.405738</td>\n",
       "      <td> 30.327869</td>\n",
       "      <td>...</td>\n",
       "      <td> 0.00</td>\n",
       "      <td>  9.76</td>\n",
       "      <td> 0</td>\n",
       "      <td> 29</td>\n",
       "      <td> 199</td>\n",
       "      <td> 3</td>\n",
       "      <td>  43</td>\n",
       "      <td>  296</td>\n",
       "      <td>  657.69</td>\n",
       "      <td>  9.76</td>\n",
       "    </tr>\n",
       "    <tr>\n",
       "      <th>15996</th>\n",
       "      <td> 1</td>\n",
       "      <td> Surgery</td>\n",
       "      <td> MD</td>\n",
       "      <td> 0.095773</td>\n",
       "      <td> 0.000000</td>\n",
       "      <td> 0.000000</td>\n",
       "      <td> 0.095773</td>\n",
       "      <td> 0</td>\n",
       "      <td> 0.645856</td>\n",
       "      <td> 27.018299</td>\n",
       "      <td>...</td>\n",
       "      <td> 0.00</td>\n",
       "      <td>  9.29</td>\n",
       "      <td> 0</td>\n",
       "      <td> 31</td>\n",
       "      <td> 199</td>\n",
       "      <td> 4</td>\n",
       "      <td>   6</td>\n",
       "      <td>  251</td>\n",
       "      <td>  601.84</td>\n",
       "      <td>  9.29</td>\n",
       "    </tr>\n",
       "    <tr>\n",
       "      <th>15997</th>\n",
       "      <td> 6</td>\n",
       "      <td> Surgery</td>\n",
       "      <td> MD</td>\n",
       "      <td> 0.093929</td>\n",
       "      <td> 0.000000</td>\n",
       "      <td> 0.001905</td>\n",
       "      <td> 0.092024</td>\n",
       "      <td> 0</td>\n",
       "      <td> 0.506971</td>\n",
       "      <td> 34.980989</td>\n",
       "      <td>...</td>\n",
       "      <td> 0.00</td>\n",
       "      <td>  7.73</td>\n",
       "      <td> 0</td>\n",
       "      <td> 31</td>\n",
       "      <td> 199</td>\n",
       "      <td> 4</td>\n",
       "      <td>   4</td>\n",
       "      <td>  276</td>\n",
       "      <td>  472.78</td>\n",
       "      <td>  7.89</td>\n",
       "    </tr>\n",
       "  </tbody>\n",
       "</table>\n",
       "<p>5 rows × 25 columns</p>\n",
       "</div>"
      ],
      "text/plain": [
       "       obs_month specialty provider_level  grand_mee  intake_emr_enc  \\\n",
       "15993          2   Surgery             MD   0.229045        0.002611   \n",
       "15994          5   Surgery             MD   0.223832        0.000000   \n",
       "15995          4   Surgery             MD   0.100619        0.000000   \n",
       "15996          1   Surgery             MD   0.095773        0.000000   \n",
       "15997          6   Surgery             MD   0.093929        0.000000   \n",
       "\n",
       "       exam_emr_enc  postvisit_emr_enc  signoff_emr_enc   key_min  mouse_min  \\\n",
       "15993      0.020828           0.205605                0  7.703003  36.985539   \n",
       "15994      0.000000           0.223832                0  0.428036  35.393258   \n",
       "15995      0.000000           0.100619                0  4.405738  30.327869   \n",
       "15996      0.000000           0.095773                0  0.645856  27.018299   \n",
       "15997      0.001905           0.092024                0  0.506971  34.980989   \n",
       "\n",
       "         ...      intake_emr  postvisit_emr  signoff_emr  tenure  practice_id  \\\n",
       "15993    ...            0.41          32.28            0      30          199   \n",
       "15994    ...            0.00          37.38            0      30          199   \n",
       "15995    ...            0.00           9.76            0      29          199   \n",
       "15996    ...            0.00           9.29            0      31          199   \n",
       "15997    ...            0.00           7.73            0      31          199   \n",
       "\n",
       "       provider_id  keystrokes  mousestrokes     RVUs  total_emr  \n",
       "15993            2         277          1330  1038.70      35.96  \n",
       "15994            2          16          1323  1022.80      37.38  \n",
       "15995            3          43           296   657.69       9.76  \n",
       "15996            4           6           251   601.84       9.29  \n",
       "15997            4           4           276   472.78       7.89  \n",
       "\n",
       "[5 rows x 25 columns]"
      ]
     },
     "execution_count": 4,
     "metadata": {},
     "output_type": "execute_result"
    }
   ],
   "source": [
    "total_df.tail()"
   ]
  },
  {
   "cell_type": "code",
   "execution_count": 5,
   "metadata": {
    "collapsed": false
   },
   "outputs": [
    {
     "data": {
      "text/plain": [
       "Index(['obs_month', 'specialty', 'provider_level', 'grand_mee', 'intake_emr_enc', 'exam_emr_enc', 'postvisit_emr_enc', 'signoff_emr_enc', 'key_min', 'mouse_min', 'key_enc', 'mouse_enc', 'encounters', 'RVUs_enc', 'exam_emr', 'intake_emr', 'postvisit_emr', 'signoff_emr', 'tenure', 'practice_id', 'provider_id', 'keystrokes', 'mousestrokes', 'RVUs', 'total_emr'], dtype='object')"
      ]
     },
     "execution_count": 5,
     "metadata": {},
     "output_type": "execute_result"
    }
   ],
   "source": [
    "total_df.columns"
   ]
  },
  {
   "cell_type": "code",
   "execution_count": 8,
   "metadata": {
    "collapsed": false
   },
   "outputs": [],
   "source": [
    "naless = total_df.dropna()"
   ]
  },
  {
   "cell_type": "code",
   "execution_count": 9,
   "metadata": {
    "collapsed": false
   },
   "outputs": [
    {
     "data": {
      "text/plain": [
       "(15938, 25)"
      ]
     },
     "execution_count": 9,
     "metadata": {},
     "output_type": "execute_result"
    }
   ],
   "source": [
    "naless.shape"
   ]
  },
  {
   "cell_type": "code",
   "execution_count": 11,
   "metadata": {
    "collapsed": false
   },
   "outputs": [
    {
     "data": {
      "text/plain": [
       "Index(['obs_month', 'grand_mee', 'intake_emr_enc', 'exam_emr_enc', 'postvisit_emr_enc', 'signoff_emr_enc', 'key_min', 'mouse_min', 'key_enc', 'mouse_enc', 'encounters', 'RVUs_enc', 'exam_emr', 'intake_emr', 'postvisit_emr', 'signoff_emr', 'tenure', 'practice_id', 'provider_id', 'keystrokes', 'mousestrokes', 'RVUs', 'total_emr', 'specialty_Cardiology', 'specialty_OB/GYN', 'specialty_PCP', 'specialty_Surgery', 'provider_level_MD', 'provider_level_Mid-level'], dtype='object')"
      ]
     },
     "execution_count": 11,
     "metadata": {},
     "output_type": "execute_result"
    }
   ],
   "source": [
    "new_df = pd.get_dummies(naless)\n",
    "new_df.columns"
   ]
  },
  {
   "cell_type": "code",
   "execution_count": 12,
   "metadata": {
    "collapsed": false
   },
   "outputs": [
    {
     "data": {
      "text/plain": [
       "array(['obs_month', 'grand_mee', 'intake_emr_enc', 'exam_emr_enc',\n",
       "       'postvisit_emr_enc', 'signoff_emr_enc', 'key_min', 'mouse_min',\n",
       "       'key_enc', 'mouse_enc', 'encounters', 'RVUs_enc', 'exam_emr',\n",
       "       'intake_emr', 'postvisit_emr', 'signoff_emr', 'tenure',\n",
       "       'practice_id', 'provider_id', 'keystrokes', 'mousestrokes', 'RVUs',\n",
       "       'total_emr', 'specialty_Cardiology', 'specialty_OB/GYN',\n",
       "       'specialty_PCP', 'specialty_Surgery', 'provider_level_MD',\n",
       "       'provider_level_Mid-level', 'specialty_Cardiology_x_mouse_enc',\n",
       "       'specialty_Cardiology_x_mouse_min',\n",
       "       'specialty_Cardiology_x_key_enc', 'specialty_Cardiology_x_key_min',\n",
       "       'specialty_Cardiology_x_keystrokes',\n",
       "       'specialty_Cardiology_x_mousestrokes',\n",
       "       'specialty_Cardiology_x_RVUs_enc', 'specialty_Cardiology_x_tenure',\n",
       "       'specialty_OB/GYN_x_mouse_enc', 'specialty_OB/GYN_x_mouse_min',\n",
       "       'specialty_OB/GYN_x_key_enc', 'specialty_OB/GYN_x_key_min',\n",
       "       'specialty_OB/GYN_x_keystrokes', 'specialty_OB/GYN_x_mousestrokes',\n",
       "       'specialty_OB/GYN_x_RVUs_enc', 'specialty_OB/GYN_x_tenure',\n",
       "       'specialty_PCP_x_mouse_enc', 'specialty_PCP_x_mouse_min',\n",
       "       'specialty_PCP_x_key_enc', 'specialty_PCP_x_key_min',\n",
       "       'specialty_PCP_x_keystrokes', 'specialty_PCP_x_mousestrokes',\n",
       "       'specialty_PCP_x_RVUs_enc', 'specialty_PCP_x_tenure',\n",
       "       'specialty_Surgery_x_mouse_enc', 'specialty_Surgery_x_mouse_min',\n",
       "       'specialty_Surgery_x_key_enc', 'specialty_Surgery_x_key_min',\n",
       "       'specialty_Surgery_x_keystrokes',\n",
       "       'specialty_Surgery_x_mousestrokes', 'specialty_Surgery_x_RVUs_enc',\n",
       "       'specialty_Surgery_x_tenure', 'provider_level_MD_x_mouse_enc',\n",
       "       'provider_level_MD_x_mouse_min', 'provider_level_MD_x_key_enc',\n",
       "       'provider_level_MD_x_key_min', 'provider_level_MD_x_keystrokes',\n",
       "       'provider_level_MD_x_mousestrokes', 'provider_level_MD_x_RVUs_enc',\n",
       "       'provider_level_MD_x_tenure',\n",
       "       'provider_level_Mid-level_x_mouse_enc',\n",
       "       'provider_level_Mid-level_x_mouse_min',\n",
       "       'provider_level_Mid-level_x_key_enc',\n",
       "       'provider_level_Mid-level_x_key_min',\n",
       "       'provider_level_Mid-level_x_keystrokes',\n",
       "       'provider_level_Mid-level_x_mousestrokes',\n",
       "       'provider_level_Mid-level_x_RVUs_enc',\n",
       "       'provider_level_Mid-level_x_tenure'], dtype=object)"
      ]
     },
     "execution_count": 12,
     "metadata": {},
     "output_type": "execute_result"
    }
   ],
   "source": [
    "multiplier = ['specialty_Cardiology', 'specialty_OB/GYN', 'specialty_PCP', 'specialty_Surgery', 'provider_level_MD',\\\n",
    "            'provider_level_Mid-level']\n",
    "multiplied = ['mouse_enc', 'mouse_min', 'key_enc', 'key_min', 'keystrokes', 'mousestrokes', 'RVUs_enc', 'tenure']\n",
    "\n",
    "for i in multiplier:\n",
    "    for j in multiplied:\n",
    "        new_df['{}_x_{}'.format(i, j)] = new_df[i] * new_df[j]\n",
    "#         print('{i}_x_{j}'.format(i, j))\n",
    "#         print(i, \"_x_\", j, sep=\"\")\n",
    "        \n",
    "new_df.columns.values"
   ]
  },
  {
   "cell_type": "code",
   "execution_count": 8,
   "metadata": {
    "collapsed": false
   },
   "outputs": [],
   "source": [
    "# s1 = 'string 1'\n",
    "# s2 = 'string 2'\n",
    "\n",
    "# 'word {}, {}'.format(s1, s2)"
   ]
  },
  {
   "cell_type": "code",
   "execution_count": 13,
   "metadata": {
    "collapsed": false
   },
   "outputs": [
    {
     "data": {
      "text/plain": [
       "(15938, 63)"
      ]
     },
     "execution_count": 13,
     "metadata": {},
     "output_type": "execute_result"
    }
   ],
   "source": [
    "cols = ['mouse_enc', 'mouse_min', 'key_enc', 'key_min', 'keystrokes', 'mousestrokes', 'RVUs_enc', 'tenure', \\\n",
    "            'specialty_Cardiology', 'specialty_OB/GYN', 'specialty_PCP', 'specialty_Surgery', 'provider_level_MD',\\\n",
    "            'provider_level_Mid-level',\n",
    "            'provider_level_Mid-level', 'specialty_Cardiology_x_mouse_enc',\n",
    "           'specialty_Cardiology_x_mouse_min',\n",
    "           'specialty_Cardiology_x_key_enc', 'specialty_Cardiology_x_key_min',\n",
    "           'specialty_Cardiology_x_keystrokes',\n",
    "           'specialty_Cardiology_x_mousestrokes',\n",
    "           'specialty_Cardiology_x_RVUs_enc', 'specialty_Cardiology_x_tenure',\n",
    "           'specialty_OB/GYN_x_mouse_enc', 'specialty_OB/GYN_x_mouse_min',\n",
    "           'specialty_OB/GYN_x_key_enc', 'specialty_OB/GYN_x_key_min',\n",
    "           'specialty_OB/GYN_x_keystrokes', 'specialty_OB/GYN_x_mousestrokes',\n",
    "           'specialty_OB/GYN_x_RVUs_enc', 'specialty_OB/GYN_x_tenure',\n",
    "           'specialty_PCP_x_mouse_enc', 'specialty_PCP_x_mouse_min',\n",
    "           'specialty_PCP_x_key_enc', 'specialty_PCP_x_key_min',\n",
    "           'specialty_PCP_x_keystrokes', 'specialty_PCP_x_mousestrokes',\n",
    "           'specialty_PCP_x_RVUs_enc', 'specialty_PCP_x_tenure',\n",
    "           'specialty_Surgery_x_mouse_enc', 'specialty_Surgery_x_mouse_min',\n",
    "           'specialty_Surgery_x_key_enc', 'specialty_Surgery_x_key_min',\n",
    "           'specialty_Surgery_x_keystrokes',\n",
    "           'specialty_Surgery_x_mousestrokes', 'specialty_Surgery_x_RVUs_enc',\n",
    "           'specialty_Surgery_x_tenure', 'provider_level_MD_x_mouse_enc',\n",
    "           'provider_level_MD_x_mouse_min', 'provider_level_MD_x_key_enc',\n",
    "           'provider_level_MD_x_key_min', 'provider_level_MD_x_keystrokes',\n",
    "           'provider_level_MD_x_mousestrokes', 'provider_level_MD_x_RVUs_enc',\n",
    "           'provider_level_MD_x_tenure',\n",
    "           'provider_level_Mid-level_x_mouse_enc',\n",
    "           'provider_level_Mid-level_x_mouse_min',\n",
    "           'provider_level_Mid-level_x_key_enc',\n",
    "           'provider_level_Mid-level_x_key_min',\n",
    "           'provider_level_Mid-level_x_keystrokes',\n",
    "           'provider_level_Mid-level_x_mousestrokes',\n",
    "           'provider_level_Mid-level_x_RVUs_enc',\n",
    "           'provider_level_Mid-level_x_tenure']\n",
    "\n",
    "# cols = new_df.drop('grand_mee', 1).columns.values\n",
    "\n",
    "X = new_df[cols].values\n",
    "Y = new_df.grand_mee.values\n",
    "np.shape(X)"
   ]
  },
  {
   "cell_type": "code",
   "execution_count": 32,
   "metadata": {
    "collapsed": false
   },
   "outputs": [],
   "source": [
    "gbr = GradientBoostingRegressor(verbose=1, n_estimators=1000) # learning_rate=0.01, max_depth=10\n",
    "# try_model(X, Y, gbr)"
   ]
  },
  {
   "cell_type": "code",
   "execution_count": 138,
   "metadata": {
    "collapsed": false
   },
   "outputs": [
    {
     "name": "stdout",
     "output_type": "stream",
     "text": [
      "      Iter       Train Loss   Remaining Time \n",
      "         1          32.7376            1.78m\n",
      "         2          27.8361            1.45m\n",
      "         3          23.9191            1.37m\n",
      "         4          20.5114            1.30m\n",
      "         5          17.6618            1.27m\n",
      "         6          15.2851            1.25m\n",
      "         7          13.2609            1.24m\n",
      "         8          11.5793            1.21m\n",
      "         9          10.0864            1.20m\n",
      "        10           8.8287            1.20m\n",
      "        20           2.7109            1.11m\n",
      "        30           1.0878            1.08m\n",
      "        40           0.5607            1.05m\n",
      "        50           0.3418            1.03m\n",
      "        60           0.2336            1.01m\n",
      "        70           0.1712           59.52s\n",
      "        80           0.1368           58.46s\n",
      "        90           0.1135           57.29s\n",
      "       100           0.0984           56.51s\n",
      "       200           0.0548           47.63s\n",
      "       300           0.0405           41.26s\n",
      "       400           0.0318           35.71s\n",
      "       500           0.0259           29.83s\n",
      "       600           0.0219           23.74s\n",
      "       700           0.0192           17.69s\n",
      "       800           0.0168           11.87s\n",
      "       900           0.0148            6.04s\n",
      "      1000           0.0134            0.00s\n"
     ]
    },
    {
     "data": {
      "text/plain": [
       "GradientBoostingRegressor(alpha=0.9, init=None, learning_rate=0.1, loss='ls',\n",
       "             max_depth=3, max_features=None, max_leaf_nodes=None,\n",
       "             min_samples_leaf=1, min_samples_split=2, n_estimators=1000,\n",
       "             random_state=None, subsample=1.0, verbose=1, warm_start=False)"
      ]
     },
     "execution_count": 138,
     "metadata": {},
     "output_type": "execute_result"
    }
   ],
   "source": [
    "X_train, X_test, y_train, y_test = cross_validation.train_test_split(X, Y, test_size=0.2, random_state=10)\n",
    "\n",
    "gbr.fit(X_train, y_train)"
   ]
  },
  {
   "cell_type": "code",
   "execution_count": 152,
   "metadata": {
    "collapsed": false
   },
   "outputs": [
    {
     "data": {
      "text/plain": [
       "[<matplotlib.lines.Line2D at 0x7fc744555198>]"
      ]
     },
     "execution_count": 152,
     "metadata": {},
     "output_type": "execute_result"
    },
    {
     "data": {
      "image/png": "[encoded data removed]",
      "text/plain": [
       "<matplotlib.figure.Figure at 0x7fc7445582e8>"
      ]
     },
     "metadata": {},
     "output_type": "display_data"
    }
   ],
   "source": [
    "# index = sorted((rand(1000) * len(Y)).astype(int))\n",
    "# index\n",
    "\n",
    "sns.set(context='poster', style='dark')\n",
    "pylab.rcParams['figure.figsize'] = (24.0, 18.0)\n",
    "\n",
    "\n",
    "plt.plot(y_test, '.r')\n",
    "plt.plot(gbr.predict(X_test), '.b')"
   ]
  },
  {
   "cell_type": "code",
   "execution_count": 147,
   "metadata": {
    "collapsed": false
   },
   "outputs": [
    {
     "data": {
      "text/plain": [
       "<matplotlib.text.Text at 0x7fc7447e04e0>"
      ]
     },
     "execution_count": 147,
     "metadata": {},
     "output_type": "execute_result"
    },
    {
     "data": {
      "image/png": "[encoded data removed]",
      "text/plain": [
       "<matplotlib.figure.Figure at 0x7fc7457ffda0>"
      ]
     },
     "metadata": {},
     "output_type": "display_data"
    }
   ],
   "source": [
    "plt.plot(y_test, gbr.predict(X_test), '.')\n",
    "plt.xlabel('expected')\n",
    "plt.ylabel('predicted')"
   ]
  },
  {
   "cell_type": "code",
   "execution_count": 154,
   "metadata": {
    "collapsed": false
   },
   "outputs": [
    {
     "data": {
      "text/plain": [
       "<matplotlib.text.Text at 0x7fc7445585c0>"
      ]
     },
     "execution_count": 154,
     "metadata": {},
     "output_type": "execute_result"
    },
    {
     "data": {
      "image/png": "[encoded data removed]",
      "text/plain": [
       "<matplotlib.figure.Figure at 0x7fc7444a5d30>"
      ]
     },
     "metadata": {},
     "output_type": "display_data"
    }
   ],
   "source": [
    "plt.plot(gbr.predict(X_test)/y_test, '.')\n",
    "plt.ylabel('predicted/expected')\n",
    "plt.xlabel('datapoint')"
   ]
  },
  {
   "cell_type": "code",
   "execution_count": 155,
   "metadata": {
    "collapsed": false
   },
   "outputs": [
    {
     "data": {
      "text/plain": [
       "[('mouse_enc', 0.21865429816249923),\n",
       " ('mouse_min', 0.16137387056279334),\n",
       " ('key_enc', 0.085318976562368393),\n",
       " ('key_min', 0.06121483922732928),\n",
       " ('specialty_PCP_x_mouse_enc', 0.055449085884273323),\n",
       " ('provider_level_MD_x_mouse_enc', 0.044101746294075463),\n",
       " ('specialty_PCP_x_key_enc', 0.034703817031420413),\n",
       " ('specialty_PCP_x_mouse_min', 0.03113855368028667),\n",
       " ('provider_level_MD_x_key_enc', 0.025386654433373415),\n",
       " ('provider_level_MD_x_mouse_min', 0.022614436228189819),\n",
       " ('specialty_PCP_x_key_min', 0.01315336084268881),\n",
       " ('provider_level_MD_x_key_min', 0.012854024684574175),\n",
       " ('RVUs_enc', 0.012463798664482358),\n",
       " ('specialty_Surgery_x_mouse_enc', 0.011724934622516626),\n",
       " ('specialty_OB/GYN_x_mouse_enc', 0.011689158508839548),\n",
       " ('specialty_Surgery_x_key_enc', 0.011687326251106543),\n",
       " ('provider_level_Mid-level_x_key_enc', 0.011132359141875303),\n",
       " ('provider_level_Mid-level_x_mouse_enc', 0.010461764069280325),\n",
       " ('keystrokes', 0.0099443800136050781),\n",
       " ('mousestrokes', 0.008834465430785603),\n",
       " ('specialty_PCP_x_keystrokes', 0.0086016907008147504),\n",
       " ('provider_level_MD_x_RVUs_enc', 0.0081689370625587562),\n",
       " ('specialty_PCP_x_RVUs_enc', 0.0078902943838183772),\n",
       " ('provider_level_MD_x_keystrokes', 0.0073048967239740621),\n",
       " ('specialty_Cardiology_x_mouse_enc', 0.0071819467348424497),\n",
       " ('provider_level_MD_x_mousestrokes', 0.0058399833992877704),\n",
       " ('specialty_Surgery_x_mouse_min', 0.0057895547367157723),\n",
       " ('specialty_Surgery_x_key_min', 0.0055304932584206391),\n",
       " ('specialty_Cardiology_x_key_enc', 0.0053803747586071947),\n",
       " ('specialty_OB/GYN_x_key_enc', 0.0052924795062158142),\n",
       " ('tenure', 0.0047757608208684509),\n",
       " ('specialty_Cardiology_x_mousestrokes', 0.0047116055503312274),\n",
       " ('provider_level_Mid-level_x_RVUs_enc', 0.0046786259377464227),\n",
       " ('specialty_PCP_x_mousestrokes', 0.0046617412410668415),\n",
       " ('specialty_Surgery_x_mousestrokes', 0.004656245970318244),\n",
       " ('provider_level_Mid-level_x_mouse_min', 0.00461599764901443),\n",
       " ('provider_level_Mid-level_x_keystrokes', 0.0045805209169741791),\n",
       " ('specialty_PCP_x_tenure', 0.0038855946624910529),\n",
       " ('specialty_Surgery_x_keystrokes', 0.0037170476961100396),\n",
       " ('provider_level_Mid-level_x_mousestrokes', 0.0037039117841945208),\n",
       " ('specialty_OB/GYN_x_RVUs_enc', 0.0034159316156637184),\n",
       " ('specialty_Cardiology_x_RVUs_enc', 0.0033162101526150937),\n",
       " ('provider_level_MD_x_tenure', 0.0032686996098642606),\n",
       " ('specialty_Cardiology_x_mouse_min', 0.003231164555798886),\n",
       " ('provider_level_Mid-level_x_key_min', 0.0028569411655974364),\n",
       " ('specialty_Cardiology_x_key_min', 0.0027507462981525991),\n",
       " ('specialty_OB/GYN_x_mousestrokes', 0.0026506719116629681),\n",
       " ('specialty_OB/GYN_x_mouse_min', 0.002626879373181905),\n",
       " ('provider_level_Mid-level_x_tenure', 0.0021221900278489249),\n",
       " ('specialty_OB/GYN_x_keystrokes', 0.0016921097845887627),\n",
       " ('specialty_Surgery_x_RVUs_enc', 0.0015319224426807497),\n",
       " ('specialty_Cardiology_x_keystrokes', 0.0014992345701815505),\n",
       " ('specialty_Cardiology_x_tenure', 0.0013871249582833086),\n",
       " ('specialty_OB/GYN_x_tenure', 0.00087871389377350241),\n",
       " ('specialty_OB/GYN_x_key_min', 0.00083948705707874785),\n",
       " ('specialty_Surgery_x_tenure', 0.00075422539428875461),\n",
       " ('provider_level_Mid-level', 0.00019723113952480631),\n",
       " ('provider_level_MD', 2.0465791165625348e-05),\n",
       " ('specialty_Cardiology', 1.5326478269589231e-05),\n",
       " ('specialty_PCP', 0.0),\n",
       " ('specialty_Surgery', 0.0),\n",
       " ('specialty_OB/GYN', 0.0)]"
      ]
     },
     "execution_count": 155,
     "metadata": {},
     "output_type": "execute_result"
    }
   ],
   "source": [
    "feat_imports = dict(zip(cols, gbr.feature_importances_))\n",
    "import operator\n",
    "sorted(feat_imports.items(), key=operator.itemgetter(1), reverse=True)"
   ]
  },
  {
   "cell_type": "code",
   "execution_count": 78,
   "metadata": {
    "collapsed": false
   },
   "outputs": [],
   "source": [
    "from lasagne import layers\n",
    "\n",
    "from lasagne.nonlinearities import softmax\n",
    "from lasagne.updates import nesterov_momentum\n",
    "from lasagne.nonlinearities import tanh\n",
    "from lasagne.nonlinearities import sigmoid\n",
    "from lasagne.nonlinearities import *\n",
    "from lasagne.nonlinearities import identity\n",
    "\n",
    "from nolearn.lasagne import NeuralNet\n",
    "\n",
    "try:\n",
    "    from lasagne.layers.cuda_convnet import Conv2DCCLayer as Conv2DLayer\n",
    "    from lasagne.layers.cuda_convnet import MaxPool2DCCLayer as MaxPool2DLayer\n",
    "except ImportError:\n",
    "    Conv2DLayer = layers.Conv2DLayer\n",
    "    MaxPool2DLayer = layers.MaxPool2DLayer"
   ]
  },
  {
   "cell_type": "code",
   "execution_count": 22,
   "metadata": {
    "collapsed": false
   },
   "outputs": [
    {
     "data": {
      "text/plain": [
       "(15938, 63)"
      ]
     },
     "execution_count": 22,
     "metadata": {},
     "output_type": "execute_result"
    }
   ],
   "source": [
    "num_features=X.shape[1]\n",
    "np.shape(X)"
   ]
  },
  {
   "cell_type": "code",
   "execution_count": 15,
   "metadata": {
    "collapsed": false
   },
   "outputs": [
    {
     "data": {
      "text/plain": [
       "(15938,)"
      ]
     },
     "execution_count": 15,
     "metadata": {},
     "output_type": "execute_result"
    }
   ],
   "source": [
    "np.shape(Y)"
   ]
  },
  {
   "cell_type": "code",
   "execution_count": 96,
   "metadata": {
    "collapsed": false
   },
   "outputs": [],
   "source": [
    "X = np.float32(X)\n",
    "Y = np.float32(Y)\n",
    "\n",
    "y = Y.reshape((15938, 1))"
   ]
  },
  {
   "cell_type": "code",
   "execution_count": null,
   "metadata": {
    "collapsed": true
   },
   "outputs": [],
   "source": []
  },
  {
   "cell_type": "code",
   "execution_count": 101,
   "metadata": {
    "collapsed": false
   },
   "outputs": [
    {
     "name": "stdout",
     "output_type": "stream",
     "text": [
      "(15938, 63)\n",
      "(15938, 1)\n",
      "[[ 11.12250042]\n",
      " [ 11.54466152]\n",
      " [ 11.73053837]\n",
      " ..., \n",
      " [  0.10061856]\n",
      " [  0.0957732 ]\n",
      " [  0.09392857]]\n"
     ]
    }
   ],
   "source": [
    "print(np.shape(X))\n",
    "print(np.shape(y))\n",
    "print(y)"
   ]
  },
  {
   "cell_type": "code",
   "execution_count": 120,
   "metadata": {
    "collapsed": false
   },
   "outputs": [
    {
     "data": {
      "text/plain": [
       "array([[ 0.69177812, -0.42161793,  0.10916066, ..., -0.40173346,\n",
       "        -0.49042198, -0.43319139],\n",
       "       [ 0.72002095, -0.46107289,  0.22054294, ..., -0.40173346,\n",
       "        -0.49042198, -0.43319139],\n",
       "       [ 0.75919199, -0.45438841,  0.24568458, ..., -0.40173346,\n",
       "        -0.49042198, -0.43319139],\n",
       "       ..., \n",
       "       [-1.16484582,  4.75250626, -0.95760095, ..., -0.40173346,\n",
       "        -0.49042198, -0.43319139],\n",
       "       [-1.17528379,  3.99595666, -0.9581989 , ..., -0.40173346,\n",
       "        -0.49042198, -0.43319139],\n",
       "       [-1.15957713,  5.81618404, -0.9582212 , ..., -0.40173346,\n",
       "        -0.49042198, -0.43319139]], dtype=float32)"
      ]
     },
     "execution_count": 120,
     "metadata": {},
     "output_type": "execute_result"
    }
   ],
   "source": [
    "from sklearn.preprocessing import StandardScaler\n",
    "scaler = StandardScaler()\n",
    "\n",
    "X = scaler.fit_transform(X)\n",
    "X"
   ]
  },
  {
   "cell_type": "code",
   "execution_count": 162,
   "metadata": {
    "collapsed": false
   },
   "outputs": [
    {
     "data": {
      "text/plain": [
       "0.0"
      ]
     },
     "execution_count": 162,
     "metadata": {},
     "output_type": "execute_result"
    }
   ],
   "source": [
    "np.mean(np.isnan(X))\n",
    "np.mean(np.isnan(y))"
   ]
  },
  {
   "cell_type": "code",
   "execution_count": 130,
   "metadata": {
    "collapsed": false
   },
   "outputs": [
    {
     "data": {
      "text/plain": [
       "6.6958966"
      ]
     },
     "execution_count": 130,
     "metadata": {},
     "output_type": "execute_result"
    }
   ],
   "source": [
    "y.mean()"
   ]
  },
  {
   "cell_type": "code",
   "execution_count": 132,
   "metadata": {
    "collapsed": false
   },
   "outputs": [
    {
     "data": {
      "text/plain": [
       "5.0178251"
      ]
     },
     "execution_count": 132,
     "metadata": {},
     "output_type": "execute_result"
    }
   ],
   "source": [
    "X_rand = np.float32(rand(15938, 63)-0.5)\n",
    "y_rand = np.float32(rand(15938, 1)*10)\n",
    "X_rand.mean()\n",
    "y_rand.mean()"
   ]
  },
  {
   "cell_type": "code",
   "execution_count": 134,
   "metadata": {
    "collapsed": false,
    "scrolled": false
   },
   "outputs": [
    {
     "name": "stdout",
     "output_type": "stream",
     "text": [
      "  input             \t(None, 63)          \tproduces      63 outputs\n",
      "  dense0            \t(None, 200)         \tproduces     200 outputs\n",
      "  dropout1          \t(None, 200)         \tproduces     200 outputs\n",
      "  dense1            \t(None, 200)         \tproduces     200 outputs\n",
      "  dropout2          \t(None, 200)         \tproduces     200 outputs\n",
      "  dense2            \t(None, 200)         \tproduces     200 outputs\n",
      "  output            \t(None, 1)           \tproduces       1 outputs\n",
      "\n",
      " Epoch  |  Train loss  |  Valid loss  |  Train / Val  |  Valid acc  |  Dur\n",
      "--------|--------------|--------------|---------------|-------------|-------\n",
      "     1  |         nan  |         nan  |          nan  |             |  4.2s\n",
      "     2  |         nan  |         nan  |          nan  |             |  4.3s\n",
      "     3  |         nan  |         nan  |          nan  |             |  4.3s\n",
      "     4  |         nan  |         nan  |          nan  |             |  4.3s\n",
      "     5  |         nan  |         nan  |          nan  |             |  4.4s\n"
     ]
    },
    {
     "data": {
      "text/plain": [
       "NeuralNet(X_tensor_type=<function matrix at 0x7fc7799522f0>,\n",
       "     batch_iterator_test=<nolearn.lasagne.BatchIterator object at 0x7fc7792ec5c0>,\n",
       "     batch_iterator_train=<nolearn.lasagne.BatchIterator object at 0x7fc7792ec588>,\n",
       "     dense0_num_units=200, dense1_num_units=200, dense2_num_units=200,\n",
       "     dropout1_p=0.1, dropout2_p=0.5, eval_size=0.2, input_shape=(None, 63),\n",
       "     layers=[('input', <class 'lasagne.layers.input.InputLayer'>), ('dense0', <class 'lasagne.layers.dense.DenseLayer'>), ('dropout1', <class 'lasagne.layers.noise.DropoutLayer'>), ('dense1', <class 'lasagne.layers.dense.DenseLayer'>), ('dropout2', <class 'lasagne.layers.noise.DropoutLayer'>), ('dense2', <class 'lasagne.layers.dense.DenseLayer'>), ('output', <class 'lasagne.layers.dense.DenseLayer'>)],\n",
       "     loss=None, max_epochs=5, more_params={},\n",
       "     objective=<class 'lasagne.objectives.Objective'>,\n",
       "     objective_loss_function=<function mse at 0x7fc7792de268>,\n",
       "     on_epoch_finished=(), on_training_finished=(),\n",
       "     output_nonlinearity=None, output_num_units=1, regression=True,\n",
       "     update=<function nesterov_momentum at 0x7fc7792de730>,\n",
       "     update_learning_rate=0.01, update_momentum=0.9,\n",
       "     use_label_encoder=False, verbose=1,\n",
       "     y_tensor_type=TensorType(float32, matrix))"
      ]
     },
     "execution_count": 134,
     "metadata": {},
     "output_type": "execute_result"
    }
   ],
   "source": [
    "layers0 = [('input', layers.InputLayer),\n",
    "           ('dense0', layers.DenseLayer),\n",
    "           ('dropout1', layers.DropoutLayer),\n",
    "           ('dense1', layers.DenseLayer),\n",
    "           ('dropout2', layers.DropoutLayer),\n",
    "           ('dense2', layers.DenseLayer),\n",
    "           ('output', layers.DenseLayer)]\n",
    "\n",
    "\n",
    "net0 = NeuralNet(layers=layers0,\n",
    "             input_shape=(None, num_features),\n",
    "             dense0_num_units=200,  # 750 -> close to .47\n",
    "             dropout1_p=0.1,\n",
    "             dense1_num_units=200,\n",
    "             dropout2_p=0.5,\n",
    "             dense2_num_units=200,\n",
    "             \n",
    "             output_num_units=1,\n",
    "             output_nonlinearity=None,\n",
    "             update_learning_rate=0.01,\n",
    "             update=nesterov_momentum,\n",
    "             update_momentum=0.9,\n",
    "             regression=True,\n",
    "             eval_size=0.2,\n",
    "             verbose=1,\n",
    "             max_epochs=5)\n",
    "\n",
    "net0.fit(X, y)"
   ]
  },
  {
   "cell_type": "code",
   "execution_count": 157,
   "metadata": {
    "collapsed": false
   },
   "outputs": [
    {
     "data": {
      "text/plain": [
       "array([[ nan],\n",
       "       [ nan],\n",
       "       [ nan],\n",
       "       ..., \n",
       "       [ nan],\n",
       "       [ nan],\n",
       "       [ nan]])"
      ]
     },
     "execution_count": 157,
     "metadata": {},
     "output_type": "execute_result"
    }
   ],
   "source": [
    "net0.predict(X)"
   ]
  },
  {
   "cell_type": "code",
   "execution_count": 87,
   "metadata": {
    "collapsed": false
   },
   "outputs": [
    {
     "data": {
      "text/plain": [
       "array([[ 11.12250042],\n",
       "       [ 11.54466152],\n",
       "       [ 11.73053837],\n",
       "       ..., \n",
       "       [  0.10061856],\n",
       "       [  0.0957732 ],\n",
       "       [  0.09392857]], dtype=float32)"
      ]
     },
     "execution_count": 87,
     "metadata": {},
     "output_type": "execute_result"
    }
   ],
   "source": [
    "y"
   ]
  }
 ],
 "metadata": {
  "kernelspec": {
   "display_name": "Python 3",
   "language": "python",
   "name": "python3"
  },
  "language_info": {
   "codemirror_mode": {
    "name": "ipython",
    "version": 3
   },
   "file_extension": ".py",
   "mimetype": "text/x-python",
   "name": "python",
   "nbconvert_exporter": "python",
   "pygments_lexer": "ipython3",
   "version": "3.4.3"
  }
 },
 "nbformat": 4,
 "nbformat_minor": 0
}
